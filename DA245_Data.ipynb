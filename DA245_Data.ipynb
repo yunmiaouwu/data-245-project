{
  "nbformat": 4,
  "nbformat_minor": 0,
  "metadata": {
    "colab": {
      "name": "DA245-Data",
      "provenance": [],
      "collapsed_sections": [],
      "include_colab_link": true
    },
    "kernelspec": {
      "name": "python3",
      "display_name": "Python 3"
    },
    "language_info": {
      "name": "python"
    }
  },
  "cells": [
    {
      "cell_type": "markdown",
      "metadata": {
        "id": "view-in-github",
        "colab_type": "text"
      },
      "source": [
        "<a href=\"https://colab.research.google.com/github/yunmiaouwu/data-245-project/blob/main/DA245_Data.ipynb\" target=\"_parent\"><img src=\"https://colab.research.google.com/assets/colab-badge.svg\" alt=\"Open In Colab\"/></a>"
      ]
    },
    {
      "cell_type": "markdown",
      "source": [
        "Reference\n",
        "\n",
        "https://github.com/Emmarex/Mathematical-Handwriting-recognition\n",
        "\n",
        "https://github.com/OSSpk/Handwritten-Digits-Classification-Using-KNN-Multiclass_Perceptron-SVM\n",
        "\n",
        "http://yann.lecun.com/exdb/mnist/\n",
        "\n",
        "https://github.com/vinayak1998/SVM-Devnagari-Handwritten-Character-Recognition\n",
        "\n",
        "http://cs229.stanford.edu/proj2013/JimenezNguyen_MathFormulas_final_paper.pdf\n",
        "\n",
        "\n",
        " It’s possible to replace the loss with the max-margin loss i.e. (structured) hinge loss, but that is an answer to a different question."
      ],
      "metadata": {
        "id": "0cdcgs96CzMN"
      }
    },
    {
      "cell_type": "code",
      "execution_count": null,
      "metadata": {
        "colab": {
          "base_uri": "https://localhost:8080/"
        },
        "id": "zbhL2IBXIybd",
        "outputId": "ffe82a4b-298d-4d99-cfde-4f506a14169d"
      },
      "outputs": [
        {
          "output_type": "stream",
          "name": "stdout",
          "text": [
            "Mounted at /content/drive\n"
          ]
        }
      ],
      "source": [
        "from google.colab import drive\n",
        "drive.mount('/content/drive')"
      ]
    },
    {
      "cell_type": "code",
      "source": [
        "%cd /content/drive/Shared drives/Data245/Project"
      ],
      "metadata": {
        "colab": {
          "base_uri": "https://localhost:8080/"
        },
        "id": "8zqPjdj9Jokk",
        "outputId": "9638f3b5-c6fd-4fa7-f78b-0b33b87b12c2"
      },
      "execution_count": null,
      "outputs": [
        {
          "output_type": "stream",
          "name": "stdout",
          "text": [
            "/content/drive/Shared drives/Data245/Project\n"
          ]
        }
      ]
    },
    {
      "cell_type": "code",
      "source": [
        "from tensorflow.keras.preprocessing.image import ImageDataGenerator\n",
        "import pandas as pd\n",
        "import numpy as np\n",
        "import os\n",
        "import matplotlib.pyplot as plt\n",
        "import cv2\n",
        "from sklearn.decomposition import PCA\n",
        "from keras.preprocessing.image import img_to_array"
      ],
      "metadata": {
        "id": "zqnxElV1b8gF"
      },
      "execution_count": null,
      "outputs": []
    },
    {
      "cell_type": "code",
      "source": [
        "# unzip\n",
        "\n",
        "#!pip install unrar\n",
        "#!unrar x data.rar '/content/drive/Shared drives/Data245/Project/Data'"
      ],
      "metadata": {
        "id": "1V_7sycMKExU"
      },
      "execution_count": null,
      "outputs": []
    },
    {
      "cell_type": "code",
      "source": [
        "#original image instance\n",
        "import cv2\n",
        "from keras.preprocessing.image import img_to_array\n",
        "i=0\n",
        "original_image=[]\n",
        "path = r'/content/drive/Shared drives/Data245/Project/Data/extracted_images/1/1_2.jpg'\n",
        "im= cv2.imread(path)\n",
        "img=cv2.cvtColor(im,cv2.COLOR_BGR2RGB)\n",
        "original_image.append(img_to_array(img))\n",
        "\n",
        "\n",
        "#reduced image instance\n",
        "reduced_image=[]\n",
        "im= cv2.imread(path)\n",
        "img=cv2.cvtColor(im,cv2.COLOR_BGR2RGB)\n",
        "    \n",
        "# Data Reduction: PCA\n",
        "blue,green,red = cv2.split(img)\n",
        "df_blue,df_green,df_red = blue,green,red\n",
        "pca_b = PCA(n_components=30)\n",
        "pca_b.fit(df_blue)\n",
        "trans_pca_b = pca_b.transform(df_blue)\n",
        "pca_g = PCA(n_components=30)\n",
        "pca_g.fit(df_green)\n",
        "trans_pca_g = pca_g.transform(df_green)\n",
        "pca_r = PCA(n_components=30)\n",
        "pca_r.fit(df_red)\n",
        "trans_pca_r = pca_r.transform(df_red)\n",
        "blue_arr = pca_b.inverse_transform(trans_pca_b)\n",
        "green_arr = pca_g.inverse_transform(trans_pca_g)\n",
        "red_arr = pca_r.inverse_transform(trans_pca_r)\n",
        "img_reduced= (cv2.merge((blue_arr, green_arr, red_arr)))\n",
        "resized_image = img_reduced.astype('float32') / 255\n",
        "reduced_image.append(img_to_array(resized_image))\n"
      ],
      "metadata": {
        "id": "51TamkehZ9n8"
      },
      "execution_count": null,
      "outputs": []
    },
    {
      "cell_type": "code",
      "source": [
        "fig = plt.figure() \n",
        "\n",
        "from google.colab.patches import cv2_imshow\n",
        "img = cv2.imread(path)\n",
        "# Output img with window name as 'image'\n",
        "cv2_imshow(img)\n",
        "\n",
        "\n",
        "plt.title(\"Reduced Image\")\n",
        "plt.imshow(reduced_image)\n",
        "plt.show()"
      ],
      "metadata": {
        "id": "Fvoyejn-MuY2"
      },
      "execution_count": null,
      "outputs": []
    },
    {
      "cell_type": "code",
      "source": [
        "labels = os.listdir('/content/drive/Shared drives/Data245/Project/Data/extracted_images')\n",
        "print(labels)\n",
        "print(len(labels))"
      ],
      "metadata": {
        "colab": {
          "base_uri": "https://localhost:8080/"
        },
        "id": "kILisNESpm-P",
        "outputId": "336968c4-bc9c-49a7-d2ec-a333c73f7d44"
      },
      "execution_count": null,
      "outputs": [
        {
          "output_type": "stream",
          "name": "stdout",
          "text": [
            "['!', '(', ')', '+', ',', '-', '0', '1', '2', '3', '4', '5', '6', '7', '8', '9', '=', 'A', 'ascii_124', 'b', 'beta', 'C', 'cos', 'd', 'Delta', 'div', 'e', 'exists', 'f']\n",
            "29\n"
          ]
        }
      ]
    },
    {
      "cell_type": "code",
      "source": [
        "#number of input in each folder\n",
        "num = []\n",
        "Y=[]\n",
        "for label in labels:\n",
        " path = '/content/drive/Shared drives/Data245/Project/Data/extracted_images/{0}/'.format(label)\n",
        " folder_data = os.listdir(path)\n",
        " k = 0\n",
        " for image_path in folder_data:\n",
        "  k = k+1\n",
        "  Y.append(label)\n",
        " num.append(k)\n",
        "\n",
        " print('there are ', k,' images in ', label, 'class')\n"
      ],
      "metadata": {
        "colab": {
          "base_uri": "https://localhost:8080/"
        },
        "id": "K69rQxV1pcJe",
        "outputId": "50672890-9f97-4e45-e130-7f33b9f244d4"
      },
      "execution_count": null,
      "outputs": [
        {
          "output_type": "stream",
          "name": "stdout",
          "text": [
            "there are  1300  images in  ! class\n",
            "there are  14294  images in  ( class\n",
            "there are  14355  images in  ) class\n",
            "there are  25112  images in  + class\n",
            "there are  1906  images in  , class\n",
            "there are  33997  images in  - class\n",
            "there are  6914  images in  0 class\n",
            "there are  26520  images in  1 class\n",
            "there are  26141  images in  2 class\n",
            "there are  10909  images in  3 class\n",
            "there are  7396  images in  4 class\n",
            "there are  3545  images in  5 class\n",
            "there are  3118  images in  6 class\n",
            "there are  2909  images in  7 class\n",
            "there are  3068  images in  8 class\n",
            "there are  3737  images in  9 class\n",
            "there are  13104  images in  = class\n",
            "there are  3764  images in  A class\n",
            "there are  0  images in  alpha class\n",
            "there are  0  images in  ascii_124 class\n",
            "there are  0  images in  b class\n",
            "there are  0  images in  beta class\n",
            "there are  0  images in  C class\n",
            "there are  0  images in  cos class\n",
            "there are  0  images in  d class\n",
            "there are  0  images in  Delta class\n",
            "there are  60  images in  div class\n",
            "there are  0  images in  e class\n",
            "there are  0  images in  exists class\n",
            "there are  0  images in  f class\n"
          ]
        }
      ]
    },
    {
      "cell_type": "code",
      "source": [
        "#Data Regularization/ Augmentation\n",
        "aug = ImageDataGenerator(\n",
        "    zoom_range=0.1,\n",
        "    rotation_range=25,\n",
        "    width_shift_range=0.1,\n",
        "    height_shift_range=0.1,\n",
        "    shear_range=0.15,\n",
        "    horizontal_flip=True,\n",
        "    fill_mode=\"nearest\"\n",
        "    )\n",
        "\n",
        "symbol_temp = np.array(symbol_raw)\n",
        "aug.fit(symbol_temp)\n",
        "\n",
        "#fit augented training data to the model\n",
        "#model.fit(data_gen.flow(x_train, y_train, batch_size=32),...)"
      ],
      "metadata": {
        "id": "Wnd-Xi7AMwcA"
      },
      "execution_count": null,
      "outputs": []
    },
    {
      "cell_type": "markdown",
      "source": [
        "I have packed the images into one CSV to acceleate data loading. I cannot save it to shared drive due to GDrive limit.\n",
        "\n",
        "DF: https://drive.google.com/file/d/1Lb88o6plwORbzNuIIw_zvcw4oBitGUi7/view?usp=sharing\n",
        "\n",
        "I used this script to generate the file.\n",
        "\n",
        "```\n",
        "import cv2\n",
        "\n",
        "folders=os.listdir( 'extracted_images/')\n",
        "data = []\n",
        "label = []\n",
        "i = 0\n",
        "for each in folders:\n",
        "    currentFolder = 'extracted_images/' + each\n",
        "    if not os.path.isdir(currentFolder):\n",
        "        continue\n",
        "    for file in os.listdir(currentFolder):\n",
        "        im= cv2.imread((os.path.join(currentFolder, file)))\n",
        "        img=cv2.cvtColor(im,cv2.COLOR_BGR2GRAY)\n",
        "        resized_image = cv2.resize(img, (8,8))\n",
        "        img = img = np.array(resized_image)\n",
        "        img = img.ravel()\n",
        "        img = img.tolist()\n",
        "        data.append(img)\n",
        "        label.append(i)\n",
        "    i+=1\n",
        "df = pd.DataFrame(data)\n",
        "    #creating new column from the target list\n",
        "df[\"label\"] = label\n",
        "    #shuffeling the data\n",
        "df = df.sample(frac=1)\n",
        "df.head()\n",
        "\n",
        "df.to_csv('extracted_images.csv')\n",
        "\n",
        "```\n",
        "\n"
      ],
      "metadata": {
        "id": "1Rpaky1TzAui"
      }
    },
    {
      "cell_type": "code",
      "source": [
        "import pandas as pd\n",
        "import os\n",
        "\n",
        "%cd /content/drive/MyDrive/\n",
        "df = pd.read_csv('extracted_images.csv')"
      ],
      "metadata": {
        "colab": {
          "base_uri": "https://localhost:8080/"
        },
        "id": "n-9H_E3Dyie4",
        "outputId": "3e7fae2d-5c0f-4446-b53c-f342b82fab8f"
      },
      "execution_count": null,
      "outputs": [
        {
          "output_type": "stream",
          "name": "stdout",
          "text": [
            "/content/drive/MyDrive\n"
          ]
        }
      ]
    },
    {
      "cell_type": "code",
      "source": [
        "df.groupby('label').size()"
      ],
      "metadata": {
        "colab": {
          "base_uri": "https://localhost:8080/"
        },
        "id": "j8uSbYjUy_pS",
        "outputId": "a11f6716-2d10-4445-9179-d8228d681ded"
      },
      "execution_count": null,
      "outputs": [
        {
          "output_type": "execute_result",
          "data": {
            "text/plain": [
              "label\n",
              "0      2025\n",
              "1       802\n",
              "2       137\n",
              "3       409\n",
              "4      1783\n",
              "      ...  \n",
              "77    26141\n",
              "78     9340\n",
              "79     3545\n",
              "80     2680\n",
              "81      556\n",
              "Length: 82, dtype: int64"
            ]
          },
          "metadata": {},
          "execution_count": 12
        }
      ]
    }
  ]
}