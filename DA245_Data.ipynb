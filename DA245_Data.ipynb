{
  "nbformat": 4,
  "nbformat_minor": 0,
  "metadata": {
    "colab": {
      "name": "DA245-Data",
      "provenance": [],
      "include_colab_link": true
    },
    "kernelspec": {
      "name": "python3",
      "display_name": "Python 3"
    },
    "language_info": {
      "name": "python"
    }
  },
  "cells": [
    {
      "cell_type": "markdown",
      "metadata": {
        "id": "view-in-github",
        "colab_type": "text"
      },
      "source": [
        "<a href=\"https://colab.research.google.com/github/yunmiaouwu/data-245-project/blob/main/DA245_Data.ipynb\" target=\"_parent\"><img src=\"https://colab.research.google.com/assets/colab-badge.svg\" alt=\"Open In Colab\"/></a>"
      ]
    },
    {
      "cell_type": "code",
      "execution_count": null,
      "metadata": {
        "id": "zbhL2IBXIybd"
      },
      "outputs": [],
      "source": [
        "from google.colab import drive\n",
        "drive.mount('/content/drive')"
      ]
    },
    {
      "cell_type": "code",
      "source": [
        "%cd /content/drive/Shared drives/Data245/Project/"
      ],
      "metadata": {
        "id": "8zqPjdj9Jokk"
      },
      "execution_count": null,
      "outputs": []
    },
    {
      "cell_type": "code",
      "source": [
        "from tensorflow.keras.preprocessing.image import ImageDataGenerator\n",
        "import pandas as pd\n",
        "import numpy as np\n",
        "import os\n",
        "import matplotlib.pyplot as plt\n",
        "import cv2\n",
        "from sklearn.decomposition import PCA\n",
        "from keras.preprocessing.image import img_to_array"
      ],
      "metadata": {
        "id": "zqnxElV1b8gF"
      },
      "execution_count": null,
      "outputs": []
    },
    {
      "cell_type": "code",
      "source": [
        "# unzip\n",
        "#!pip install unrar\n",
        "#!unrar x data.rar '/content/drive/Shared drives/Data245/Project/Data'"
      ],
      "metadata": {
        "colab": {
          "base_uri": "https://localhost:8080/"
        },
        "id": "1V_7sycMKExU",
        "outputId": "e2ca4c01-5035-4446-ada8-9af6b9522e16"
      },
      "execution_count": null,
      "outputs": [
        {
          "output_type": "stream",
          "name": "stdout",
          "text": [
            "Requirement already satisfied: unrar in /usr/local/lib/python3.7/dist-packages (0.4)\n"
          ]
        }
      ]
    },
    {
      "cell_type": "code",
      "source": [
        "#original image instance\n",
        "import cv2\n",
        "from keras.preprocessing.image import img_to_array\n",
        "i=0\n",
        "original_image=[]\n",
        "path = r'/content/drive/Shared drives/Data245/Project/Data/extracted_images/1/1_2.jpg'\n",
        "im= cv2.imread(path)\n",
        "img=cv2.cvtColor(im,cv2.COLOR_BGR2RGB)\n",
        "original_image.append(img_to_array(img))\n",
        "\n",
        "\n",
        "#reduced image instance\n",
        "reduced_image=[]\n",
        "im= cv2.imread(path)\n",
        "img=cv2.cvtColor(im,cv2.COLOR_BGR2RGB)\n",
        "    \n",
        "# Data Reduction: PCA\n",
        "blue,green,red = cv2.split(img)\n",
        "df_blue,df_green,df_red = blue,green,red\n",
        "pca_b = PCA(n_components=30)\n",
        "pca_b.fit(df_blue)\n",
        "trans_pca_b = pca_b.transform(df_blue)\n",
        "pca_g = PCA(n_components=30)\n",
        "pca_g.fit(df_green)\n",
        "trans_pca_g = pca_g.transform(df_green)\n",
        "pca_r = PCA(n_components=30)\n",
        "pca_r.fit(df_red)\n",
        "trans_pca_r = pca_r.transform(df_red)\n",
        "blue_arr = pca_b.inverse_transform(trans_pca_b)\n",
        "green_arr = pca_g.inverse_transform(trans_pca_g)\n",
        "red_arr = pca_r.inverse_transform(trans_pca_r)\n",
        "img_reduced= (cv2.merge((blue_arr, green_arr, red_arr)))\n",
        "resized_image = img_reduced.astype('float32') / 255\n",
        "reduced_image.append(img_to_array(resized_image))\n"
      ],
      "metadata": {
        "id": "51TamkehZ9n8"
      },
      "execution_count": null,
      "outputs": []
    },
    {
      "cell_type": "code",
      "source": [
        "fig = plt.figure() \n",
        "\n",
        "from google.colab.patches import cv2_imshow\n",
        "img = cv2.imread(path)\n",
        "# Output img with window name as 'image'\n",
        "cv2_imshow(img)\n",
        "\n",
        "\n",
        "plt.title(\"Reduced Image\")\n",
        "plt.imshow(np.squeeze(reduced_image))\n",
        "plt.show()"
      ],
      "metadata": {
        "id": "Fvoyejn-MuY2",
        "colab": {
          "base_uri": "https://localhost:8080/",
          "height": 343
        },
        "outputId": "ce60b100-5c42-4984-8c82-ead9bf19bf56"
      },
      "execution_count": null,
      "outputs": [
        {
          "output_type": "display_data",
          "data": {
            "text/plain": [
              "<PIL.Image.Image image mode=RGB size=45x45 at 0x7F72A85FFC10>"
            ],
            "image/png": "[encoded data removed]"
          },
          "metadata": {}
        },
        {
          "output_type": "stream",
          "name": "stderr",
          "text": [
            "Clipping input data to the valid range for imshow with RGB data ([0..1] for floats or [0..255] for integers).\n"
          ]
        },
        {
          "output_type": "display_data",
          "data": {
            "text/plain": [
              "<Figure size 432x288 with 1 Axes>"
            ],
            "image/png": "[encoded data removed]"
          },
          "metadata": {
            "needs_background": "light"
          }
        }
      ]
    },
    {
      "cell_type": "code",
      "source": [
        "#Data Regularization/ Augmentation\n",
        "aug = ImageDataGenerator(\n",
        "    zoom_range=0.1,\n",
        "    rotation_range=25,\n",
        "    width_shift_range=0.1,\n",
        "    height_shift_range=0.1,\n",
        "    shear_range=0.15,\n",
        "    horizontal_flip=True,\n",
        "    fill_mode=\"nearest\"\n",
        "    )\n",
        "\n",
        "symbol_temp = np.array(symbol_raw)\n",
        "aug.fit(symbol_temp)\n",
        "\n",
        "#fit augented training data to the model\n",
        "#model.fit(data_gen.flow(x_train, y_train, batch_size=32),...)"
      ],
      "metadata": {
        "id": "Wnd-Xi7AMwcA"
      },
      "execution_count": null,
      "outputs": []
    }
  ]
}