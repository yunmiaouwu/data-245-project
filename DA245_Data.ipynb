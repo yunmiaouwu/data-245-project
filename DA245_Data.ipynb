{
  "nbformat": 4,
  "nbformat_minor": 0,
  "metadata": {
    "colab": {
      "name": "DA245-Data",
      "provenance": [],
      "include_colab_link": true
    },
    "kernelspec": {
      "name": "python3",
      "display_name": "Python 3"
    },
    "language_info": {
      "name": "python"
    }
  },
  "cells": [
    {
      "cell_type": "markdown",
      "metadata": {
        "id": "view-in-github",
        "colab_type": "text"
      },
      "source": [
        "<a href=\"https://colab.research.google.com/github/yunmiaouwu/data-245-project/blob/main/DA245_Data.ipynb\" target=\"_parent\"><img src=\"https://colab.research.google.com/assets/colab-badge.svg\" alt=\"Open In Colab\"/></a>"
      ]
    },
    {
      "cell_type": "markdown",
      "source": [
        "Reference\n",
        "\n",
        "https://github.com/Emmarex/Mathematical-Handwriting-recognition\n",
        "\n",
        "https://github.com/OSSpk/Handwritten-Digits-Classification-Using-KNN-Multiclass_Perceptron-SVM\n",
        "\n",
        "http://yann.lecun.com/exdb/mnist/\n",
        "\n",
        "https://github.com/vinayak1998/SVM-Devnagari-Handwritten-Character-Recognition\n",
        "\n",
        "http://cs229.stanford.edu/proj2013/JimenezNguyen_MathFormulas_final_paper.pdf\n",
        "\n"
      ],
      "metadata": {
        "id": "0cdcgs96CzMN"
      }
    },
    {
      "cell_type": "code",
      "execution_count": null,
      "metadata": {
        "colab": {
          "base_uri": "https://localhost:8080/"
        },
        "id": "zbhL2IBXIybd",
        "outputId": "91c6b90e-0259-4c54-d1f4-dd2c460575c1"
      },
      "outputs": [
        {
          "output_type": "stream",
          "name": "stdout",
          "text": [
            "Mounted at /content/drive\n"
          ]
        }
      ],
      "source": [
        "from google.colab import drive\n",
        "drive.mount('/content/drive')"
      ]
    },
    {
      "cell_type": "code",
      "source": [
        "%cd /content/drive/Shared drives/Data245/Project"
      ],
      "metadata": {
        "colab": {
          "base_uri": "https://localhost:8080/"
        },
        "id": "8zqPjdj9Jokk",
        "outputId": "9b74f069-6339-434e-cb59-6262895bbd8d"
      },
      "execution_count": null,
      "outputs": [
        {
          "output_type": "stream",
          "name": "stdout",
          "text": [
            "/content/drive/Shared drives/Data245/Project\n"
          ]
        }
      ]
    },
    {
      "cell_type": "code",
      "source": [
        "from tensorflow.keras.preprocessing.image import ImageDataGenerator\n",
        "import pandas as pd\n",
        "import numpy as np\n",
        "import os\n",
        "import matplotlib.pyplot as plt\n",
        "import cv2\n",
        "from sklearn.decomposition import PCA\n",
        "from keras.preprocessing.image import img_to_array"
      ],
      "metadata": {
        "id": "zqnxElV1b8gF"
      },
      "execution_count": null,
      "outputs": []
    },
    {
      "cell_type": "code",
      "source": [
        "# unzip\n",
        "\n",
        "#!pip install unrar\n",
        "#!unrar x data.rar '/content/drive/Shared drives/Data245/Project/Data'"
      ],
      "metadata": {
        "id": "1V_7sycMKExU"
      },
      "execution_count": null,
      "outputs": []
    },
    {
      "cell_type": "code",
      "source": [
        "#original image instance\n",
        "import cv2\n",
        "from keras.preprocessing.image import img_to_array\n",
        "i=0\n",
        "original_image=[]\n",
        "path = r'/content/drive/Shared drives/Data245/Project/Data/extracted_images/1/1_2.jpg'\n",
        "im= cv2.imread(path)\n",
        "img=cv2.cvtColor(im,cv2.COLOR_BGR2RGB)\n",
        "original_image.append(img_to_array(img))\n",
        "\n",
        "\n",
        "#reduced image instance\n",
        "reduced_image=[]\n",
        "im= cv2.imread(path)\n",
        "img=cv2.cvtColor(im,cv2.COLOR_BGR2RGB)\n",
        "    \n",
        "# Data Reduction: PCA\n",
        "blue,green,red = cv2.split(img)\n",
        "df_blue,df_green,df_red = blue,green,red\n",
        "pca_b = PCA(n_components=30)\n",
        "pca_b.fit(df_blue)\n",
        "trans_pca_b = pca_b.transform(df_blue)\n",
        "pca_g = PCA(n_components=30)\n",
        "pca_g.fit(df_green)\n",
        "trans_pca_g = pca_g.transform(df_green)\n",
        "pca_r = PCA(n_components=30)\n",
        "pca_r.fit(df_red)\n",
        "trans_pca_r = pca_r.transform(df_red)\n",
        "blue_arr = pca_b.inverse_transform(trans_pca_b)\n",
        "green_arr = pca_g.inverse_transform(trans_pca_g)\n",
        "red_arr = pca_r.inverse_transform(trans_pca_r)\n",
        "img_reduced= (cv2.merge((blue_arr, green_arr, red_arr)))\n",
        "resized_image = img_reduced.astype('float32') / 255\n",
        "reduced_image.append(img_to_array(resized_image))\n"
      ],
      "metadata": {
        "id": "51TamkehZ9n8"
      },
      "execution_count": null,
      "outputs": []
    },
    {
      "cell_type": "code",
      "source": [
        "fig = plt.figure() \n",
        "\n",
        "from google.colab.patches import cv2_imshow\n",
        "img = cv2.imread(path)\n",
        "# Output img with window name as 'image'\n",
        "cv2_imshow(img)\n",
        "\n",
        "\n",
        "plt.title(\"Reduced Image\")\n",
        "plt.imshow(reduced_image)\n",
        "plt.show()"
      ],
      "metadata": {
        "id": "Fvoyejn-MuY2"
      },
      "execution_count": null,
      "outputs": []
    },
    {
      "cell_type": "code",
      "source": [
        "labels = os.listdir('/content/drive/Shared drives/Data245/Project/Data/extracted_images')\n",
        "print(labels)"
      ],
      "metadata": {
        "colab": {
          "base_uri": "https://localhost:8080/"
        },
        "id": "kILisNESpm-P",
        "outputId": "c79b9cd1-071d-4922-9b87-fce6f4e5137b"
      },
      "execution_count": null,
      "outputs": [
        {
          "output_type": "stream",
          "name": "stdout",
          "text": [
            "['!', '(', ')', '+', ',', '-', '0', '1', '2', '3', '4', '5', '6', '7', '8', '9', '=', 'A', 'alpha', 'ascii_124', 'b', 'beta', 'C', 'cos', 'd', 'Delta', 'div', 'e', 'exists', 'f']\n"
          ]
        }
      ]
    },
    {
      "cell_type": "code",
      "source": [
        "#number of input in each folder\n",
        "num = []\n",
        "Y=[]\n",
        "for label in labels:\n",
        " path = '/content/drive/Shared drives/Data245/Project/Data/extracted_images/{0}/'.format(label)\n",
        " folder_data = os.listdir(path)\n",
        " k = 0\n",
        " for image_path in folder_data:\n",
        "  k = k+1\n",
        "  Y.append(label)\n",
        " num.append(k)\n",
        "\n",
        " print('there are ', k,' images in ', label, 'class')\n"
      ],
      "metadata": {
        "colab": {
          "base_uri": "https://localhost:8080/"
        },
        "id": "K69rQxV1pcJe",
        "outputId": "50672890-9f97-4e45-e130-7f33b9f244d4"
      },
      "execution_count": null,
      "outputs": [
        {
          "output_type": "stream",
          "name": "stdout",
          "text": [
            "there are  1300  images in  ! class\n"
          ]
        }
      ]
    },
    {
      "cell_type": "code",
      "source": [
        "#Data Regularization/ Augmentation\n",
        "aug = ImageDataGenerator(\n",
        "    zoom_range=0.1,\n",
        "    rotation_range=25,\n",
        "    width_shift_range=0.1,\n",
        "    height_shift_range=0.1,\n",
        "    shear_range=0.15,\n",
        "    horizontal_flip=True,\n",
        "    fill_mode=\"nearest\"\n",
        "    )\n",
        "\n",
        "symbol_temp = np.array(symbol_raw)\n",
        "aug.fit(symbol_temp)\n",
        "\n",
        "#fit augented training data to the model\n",
        "#model.fit(data_gen.flow(x_train, y_train, batch_size=32),...)"
      ],
      "metadata": {
        "id": "Wnd-Xi7AMwcA"
      },
      "execution_count": null,
      "outputs": []
    }
  ]
}