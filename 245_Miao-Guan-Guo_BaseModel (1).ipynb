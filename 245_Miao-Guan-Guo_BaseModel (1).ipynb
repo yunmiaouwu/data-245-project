{
 "cells": [
  {
   "cell_type": "code",
   "execution_count": 1,
   "metadata": {},
   "outputs": [],
   "source": [
    "import numpy as np\n",
    "import os\n",
    "import PIL\n",
    "import PIL.Image\n",
    "import pandas as pd\n",
    "from PIL import Image\n",
    "import matplotlib.image as mpimg\n",
    "import matplotlib.pyplot as plt\n",
    "from sklearn.model_selection import train_test_split\n",
    "from sklearn.manifold import TSNE\n",
    "import seaborn as sns\n",
    "from sklearn.preprocessing import LabelBinarizer\n",
    "from tensorflow.keras.utils import to_categorical\n",
    "import cv2\n",
    "\n",
    "from datetime import datetime as dt\n",
    "from sklearn.metrics import classification_report, confusion_matrix, accuracy_score,  roc_auc_score\n",
    "import time\n",
    "from sklearn.model_selection import GridSearchCV, cross_val_score, StratifiedKFold, learning_curve"
   ]
  },
  {
   "cell_type": "code",
   "execution_count": 2,
   "metadata": {},
   "outputs": [
    {
     "name": "stdout",
     "output_type": "stream",
     "text": [
      "['!', '(', ')', '+', ',', '-', '0', '1', '2', '3', '4', '5', '6', '7', '8', '9', '=', 'A', 'alpha', 'ascii_124', 'b', 'beta', 'C', 'cos', 'd', 'Delta', 'div', 'e', 'exists', 'f', 'forall', 'forward_slash', 'G', 'gamma', 'geq', 'gt', 'H', 'i', 'in', 'infty', 'int', 'j', 'k', 'l', 'lambda', 'ldots', 'leq', 'lim', 'log', 'lt', 'M', 'mu', 'N', 'neq', 'o', 'p', 'phi', 'pi', 'pm', 'prime', 'q', 'R', 'rightarrow', 'S', 'sigma', 'sin', 'sqrt', 'sum', 'T', 'tan', 'theta', 'times', 'u', 'v', 'w', 'X', 'y', 'z', '[', ']', '{', '}']\n"
     ]
    }
   ],
   "source": [
    "folders=os.listdir( '245_data')\n",
    "print(folders)"
   ]
  },
  {
   "cell_type": "code",
   "execution_count": 3,
   "metadata": {},
   "outputs": [],
   "source": [
    "numeric_data=['0', '1', '2', '3', '4', '5', '6', '7', '8', '9']\n",
    "alphabet_data=['A', 'b','C','d', 'e', 'f', 'G', 'H', 'i', 'j', 'k', 'l', 'M','N','o', 'p','q', 'R','S','T', 'u', 'v', 'w', 'X', 'y', 'z']\n",
    "symbol_data=['!', '(', ')', '+', ',', '-','=','alpha', 'ascii_124', 'beta', 'cos', 'Delta', 'div','exists', 'forall', 'forward_slash','gamma', 'geq', 'gt', 'in', 'infty', 'int','lambda', 'ldots', 'leq', 'lim', 'log', 'lt','mu', 'neq', 'phi', 'pi', 'pm', 'prime', 'rightarrow', 'sigma', 'sin', 'sqrt', 'sum', 'tan', 'theta', 'times', '[', ']', '{', '}']"
   ]
  },
  {
   "cell_type": "code",
   "execution_count": 4,
   "metadata": {},
   "outputs": [
    {
     "data": {
      "text/html": [
       "<div>\n",
       "<style scoped>\n",
       "    .dataframe tbody tr th:only-of-type {\n",
       "        vertical-align: middle;\n",
       "    }\n",
       "\n",
       "    .dataframe tbody tr th {\n",
       "        vertical-align: top;\n",
       "    }\n",
       "\n",
       "    .dataframe thead th {\n",
       "        text-align: right;\n",
       "    }\n",
       "</style>\n",
       "<table border=\"1\" class=\"dataframe\">\n",
       "  <thead>\n",
       "    <tr style=\"text-align: right;\">\n",
       "      <th></th>\n",
       "      <th>0</th>\n",
       "      <th>1</th>\n",
       "      <th>2</th>\n",
       "      <th>3</th>\n",
       "      <th>4</th>\n",
       "      <th>5</th>\n",
       "      <th>6</th>\n",
       "      <th>7</th>\n",
       "      <th>8</th>\n",
       "      <th>9</th>\n",
       "      <th>...</th>\n",
       "      <th>247</th>\n",
       "      <th>248</th>\n",
       "      <th>249</th>\n",
       "      <th>250</th>\n",
       "      <th>251</th>\n",
       "      <th>252</th>\n",
       "      <th>253</th>\n",
       "      <th>254</th>\n",
       "      <th>255</th>\n",
       "      <th>label</th>\n",
       "    </tr>\n",
       "  </thead>\n",
       "  <tbody>\n",
       "    <tr>\n",
       "      <th>0</th>\n",
       "      <td>1.000000</td>\n",
       "      <td>1.0</td>\n",
       "      <td>1.000000</td>\n",
       "      <td>0.996078</td>\n",
       "      <td>1.000000</td>\n",
       "      <td>1.000000</td>\n",
       "      <td>0.219608</td>\n",
       "      <td>0.898039</td>\n",
       "      <td>0.901961</td>\n",
       "      <td>0.094118</td>\n",
       "      <td>...</td>\n",
       "      <td>0.905882</td>\n",
       "      <td>0.905882</td>\n",
       "      <td>1.000000</td>\n",
       "      <td>1.000000</td>\n",
       "      <td>1.000000</td>\n",
       "      <td>1.000000</td>\n",
       "      <td>1.0</td>\n",
       "      <td>1.0</td>\n",
       "      <td>1.0</td>\n",
       "      <td>0</td>\n",
       "    </tr>\n",
       "    <tr>\n",
       "      <th>1</th>\n",
       "      <td>1.000000</td>\n",
       "      <td>1.0</td>\n",
       "      <td>1.000000</td>\n",
       "      <td>1.000000</td>\n",
       "      <td>0.843137</td>\n",
       "      <td>0.878431</td>\n",
       "      <td>0.074510</td>\n",
       "      <td>0.996078</td>\n",
       "      <td>0.984314</td>\n",
       "      <td>0.992157</td>\n",
       "      <td>...</td>\n",
       "      <td>0.905882</td>\n",
       "      <td>0.905882</td>\n",
       "      <td>0.294118</td>\n",
       "      <td>1.000000</td>\n",
       "      <td>1.000000</td>\n",
       "      <td>1.000000</td>\n",
       "      <td>1.0</td>\n",
       "      <td>1.0</td>\n",
       "      <td>1.0</td>\n",
       "      <td>0</td>\n",
       "    </tr>\n",
       "    <tr>\n",
       "      <th>2</th>\n",
       "      <td>1.000000</td>\n",
       "      <td>1.0</td>\n",
       "      <td>1.000000</td>\n",
       "      <td>0.654902</td>\n",
       "      <td>0.905882</td>\n",
       "      <td>0.905882</td>\n",
       "      <td>0.901961</td>\n",
       "      <td>0.901961</td>\n",
       "      <td>0.458824</td>\n",
       "      <td>0.992157</td>\n",
       "      <td>...</td>\n",
       "      <td>0.905882</td>\n",
       "      <td>0.905882</td>\n",
       "      <td>0.729412</td>\n",
       "      <td>0.125490</td>\n",
       "      <td>0.996078</td>\n",
       "      <td>0.996078</td>\n",
       "      <td>1.0</td>\n",
       "      <td>1.0</td>\n",
       "      <td>1.0</td>\n",
       "      <td>0</td>\n",
       "    </tr>\n",
       "    <tr>\n",
       "      <th>3</th>\n",
       "      <td>1.000000</td>\n",
       "      <td>1.0</td>\n",
       "      <td>1.000000</td>\n",
       "      <td>0.996078</td>\n",
       "      <td>0.988235</td>\n",
       "      <td>0.992157</td>\n",
       "      <td>1.000000</td>\n",
       "      <td>0.576471</td>\n",
       "      <td>0.537255</td>\n",
       "      <td>0.094118</td>\n",
       "      <td>...</td>\n",
       "      <td>0.901961</td>\n",
       "      <td>0.572549</td>\n",
       "      <td>0.996078</td>\n",
       "      <td>1.000000</td>\n",
       "      <td>1.000000</td>\n",
       "      <td>1.000000</td>\n",
       "      <td>1.0</td>\n",
       "      <td>1.0</td>\n",
       "      <td>1.0</td>\n",
       "      <td>0</td>\n",
       "    </tr>\n",
       "    <tr>\n",
       "      <th>4</th>\n",
       "      <td>0.996078</td>\n",
       "      <td>1.0</td>\n",
       "      <td>0.996078</td>\n",
       "      <td>1.000000</td>\n",
       "      <td>0.905882</td>\n",
       "      <td>0.905882</td>\n",
       "      <td>0.800000</td>\n",
       "      <td>0.996078</td>\n",
       "      <td>0.996078</td>\n",
       "      <td>0.992157</td>\n",
       "      <td>...</td>\n",
       "      <td>0.905882</td>\n",
       "      <td>0.905882</td>\n",
       "      <td>0.901961</td>\n",
       "      <td>0.878431</td>\n",
       "      <td>1.000000</td>\n",
       "      <td>1.000000</td>\n",
       "      <td>1.0</td>\n",
       "      <td>1.0</td>\n",
       "      <td>1.0</td>\n",
       "      <td>0</td>\n",
       "    </tr>\n",
       "  </tbody>\n",
       "</table>\n",
       "<p>5 rows × 257 columns</p>\n",
       "</div>"
      ],
      "text/plain": [
       "          0    1         2         3         4         5         6         7  \\\n",
       "0  1.000000  1.0  1.000000  0.996078  1.000000  1.000000  0.219608  0.898039   \n",
       "1  1.000000  1.0  1.000000  1.000000  0.843137  0.878431  0.074510  0.996078   \n",
       "2  1.000000  1.0  1.000000  0.654902  0.905882  0.905882  0.901961  0.901961   \n",
       "3  1.000000  1.0  1.000000  0.996078  0.988235  0.992157  1.000000  0.576471   \n",
       "4  0.996078  1.0  0.996078  1.000000  0.905882  0.905882  0.800000  0.996078   \n",
       "\n",
       "          8         9  ...       247       248       249       250       251  \\\n",
       "0  0.901961  0.094118  ...  0.905882  0.905882  1.000000  1.000000  1.000000   \n",
       "1  0.984314  0.992157  ...  0.905882  0.905882  0.294118  1.000000  1.000000   \n",
       "2  0.458824  0.992157  ...  0.905882  0.905882  0.729412  0.125490  0.996078   \n",
       "3  0.537255  0.094118  ...  0.901961  0.572549  0.996078  1.000000  1.000000   \n",
       "4  0.996078  0.992157  ...  0.905882  0.905882  0.901961  0.878431  1.000000   \n",
       "\n",
       "        252  253  254  255  label  \n",
       "0  1.000000  1.0  1.0  1.0      0  \n",
       "1  1.000000  1.0  1.0  1.0      0  \n",
       "2  0.996078  1.0  1.0  1.0      0  \n",
       "3  1.000000  1.0  1.0  1.0      0  \n",
       "4  1.000000  1.0  1.0  1.0      0  \n",
       "\n",
       "[5 rows x 257 columns]"
      ]
     },
     "execution_count": 4,
     "metadata": {},
     "output_type": "execute_result"
    }
   ],
   "source": [
    "data = []\n",
    "label = []\n",
    "\n",
    "for each in numeric_data:\n",
    "    file_ct=0\n",
    "    currentFolder = 'C:/Users/Yunao/Downloads/245_data/' + each\n",
    "    for i, file in enumerate(os.listdir(currentFolder)):\n",
    "        if file_ct > 1000:\n",
    "                break\n",
    "        im= cv2.imread((os.path.join(currentFolder, file)))\n",
    "        img=cv2.cvtColor(im,cv2.COLOR_BGR2GRAY)\n",
    "        #resize\n",
    "        resized_image = cv2.resize(img, (16,16))\n",
    "        #normalization\n",
    "        img = np.array(resized_image)/255\n",
    "        \n",
    "        img = img.ravel()\n",
    "        img = img.tolist()\n",
    "        \n",
    "        data.append(img)\n",
    "        label.append(each)\n",
    "            \n",
    "        file_ct+=1\n",
    "        \n",
    "numeric_df = pd.DataFrame(data)\n",
    "numeric_df[\"label\"] = label\n",
    "\n",
    "numeric_df.head()"
   ]
  },
  {
   "cell_type": "code",
   "execution_count": 6,
   "metadata": {},
   "outputs": [
    {
     "data": {
      "text/plain": [
       "(10010, 257)"
      ]
     },
     "execution_count": 6,
     "metadata": {},
     "output_type": "execute_result"
    }
   ],
   "source": [
    "numeric_df.shape"
   ]
  },
  {
   "cell_type": "code",
   "execution_count": 7,
   "metadata": {},
   "outputs": [
    {
     "data": {
      "text/plain": [
       "Text(0.5, 1.0, 'Number Distribution')"
      ]
     },
     "execution_count": 7,
     "metadata": {},
     "output_type": "execute_result"
    },
    {
     "data": {
      "image/png": "[encoded data removed]",
      "text/plain": [
       "<Figure size 432x288 with 1 Axes>"
      ]
     },
     "metadata": {},
     "output_type": "display_data"
    }
   ],
   "source": [
    "sns.set_theme(style=\"darkgrid\")\n",
    "ax = sns.countplot(x=\"label\", data=numeric_df)\n",
    "plt.title('Number Distribution')"
   ]
  },
  {
   "cell_type": "code",
   "execution_count": 8,
   "metadata": {},
   "outputs": [
    {
     "name": "stderr",
     "output_type": "stream",
     "text": [
      "Clipping input data to the valid range for imshow with RGB data ([0..1] for floats or [0..255] for integers).\n"
     ]
    },
    {
     "data": {
      "image/png": "[encoded data removed]",
      "text/plain": [
       "<Figure size 1200x560 with 2 Axes>"
      ]
     },
     "metadata": {},
     "output_type": "display_data"
    }
   ],
   "source": [
    "#original image instance\n",
    "import cv2\n",
    "from keras.preprocessing.image import img_to_array\n",
    "i=0\n",
    "original_image=[]\n",
    "path = r'C:/Users/Yunao/Downloads/245_data/1/1_2.jpg'\n",
    "im= cv2.imread(path)\n",
    "img=cv2.cvtColor(im,cv2.COLOR_BGR2RGB)\n",
    "original_image.append(img_to_array(img))\n",
    "\n",
    "\n",
    "#processed image instance\n",
    "processed_image=[]\n",
    "im= cv2.imread(path)\n",
    "img=cv2.cvtColor(im,cv2.COLOR_BGR2GRAY)\n",
    "resized_image = cv2.resize(img, (16,16))   \n",
    "resized_image = resized_image.astype('float32') / 255\n",
    "processed_image.append(img_to_array(resized_image))\n",
    "\n",
    "fig, ax = plt.subplots(nrows=1, ncols=2, figsize=(15, 7), dpi=80, sharex=True, sharey=True)\n",
    "\n",
    "\n",
    "ax[1].imshow(np.squeeze(processed_image),cmap='gray')\n",
    "ax[0].imshow(np.squeeze(original_image))\n",
    "\n",
    "ax[0].title.set_text('Original Image')\n",
    "ax[1].title.set_text('Processed Image')"
   ]
  },
  {
   "cell_type": "markdown",
   "metadata": {},
   "source": [
    "Prepare for training"
   ]
  },
  {
   "cell_type": "code",
   "execution_count": 9,
   "metadata": {},
   "outputs": [],
   "source": [
    "df1=numeric_df\n",
    "\n",
    "data=df1.iloc[:,:-1]\n",
    "label=df1.iloc[:,-1]\n",
    "\n",
    "from sklearn.preprocessing import LabelEncoder\n",
    "label_encoded = LabelEncoder().fit_transform(label)\n",
    "\n",
    "#60% train, 20% test, 20% validation\n",
    "X_train, X_test, y_train, y_test = train_test_split(data, label_encoded, test_size=0.2, random_state=22, shuffle=True)\n",
    "X_train, X_val, y_train, y_val = train_test_split(X_train, y_train, test_size=0.25, random_state=22)"
   ]
  },
  {
   "cell_type": "code",
   "execution_count": 10,
   "metadata": {},
   "outputs": [
    {
     "name": "stdout",
     "output_type": "stream",
     "text": [
      "Training dataset contains:  (6006, 256)  data\n",
      "Testing dataset contains:  (2002, 256)  data\n",
      "Validation dataset contains:  (2002, 256)  data\n"
     ]
    }
   ],
   "source": [
    "print('Training dataset contains: ', X_train.shape, ' data')\n",
    "print('Testing dataset contains: ', X_test.shape, ' data')\n",
    "print('Validation dataset contains: ', X_val.shape, ' data')"
   ]
  },
  {
   "cell_type": "code",
   "execution_count": 11,
   "metadata": {},
   "outputs": [],
   "source": [
    "evaluation_col = [\"Model\",\"training duration(ms)\", \"predicting duration(ms)\", \"accuracy score\"]\n",
    "performance_result=[]"
   ]
  },
  {
   "cell_type": "markdown",
   "metadata": {},
   "source": [
    "Model Development"
   ]
  },
  {
   "cell_type": "code",
   "execution_count": 12,
   "metadata": {},
   "outputs": [
    {
     "name": "stdout",
     "output_type": "stream",
     "text": [
      "0.3233834114920634\n"
     ]
    },
    {
     "data": {
      "image/png": "[encoded data removed]",
      "text/plain": [
       "<Figure size 432x288 with 1 Axes>"
      ]
     },
     "metadata": {},
     "output_type": "display_data"
    }
   ],
   "source": [
    "from sklearn.linear_model import LinearRegression\n",
    "lr_model = LinearRegression()\n",
    "lr_model.fit(X_train, y_train)\n",
    "y_pred = lr_model.predict(X_test)\n",
    "plt.scatter(y_test,y_pred)\n",
    "plt.xlabel('Y Test (True Values)')\n",
    "plt.ylabel('Predicted Values')\n",
    "plt.title('Predicted vs. Actual Values ')\n",
    "\n",
    "r2 = lr_model.score(X_test,y_test)\n",
    "print(r2)"
   ]
  },
  {
   "cell_type": "code",
   "execution_count": 13,
   "metadata": {},
   "outputs": [
    {
     "name": "stdout",
     "output_type": "stream",
     "text": [
      "              precision    recall  f1-score   support\n",
      "\n",
      "           0       0.84      0.48      0.61       202\n",
      "           1       0.22      0.93      0.35       209\n",
      "           2       0.47      0.41      0.44       213\n",
      "           3       0.46      0.44      0.45       205\n",
      "           4       0.71      0.31      0.43       197\n",
      "           5       0.73      0.32      0.45       212\n",
      "           6       0.74      0.56      0.64       196\n",
      "           7       0.62      0.50      0.55       195\n",
      "           8       0.77      0.17      0.28       195\n",
      "           9       0.62      0.31      0.42       178\n",
      "\n",
      "    accuracy                           0.45      2002\n",
      "   macro avg       0.62      0.44      0.46      2002\n",
      "weighted avg       0.61      0.45      0.46      2002\n",
      "\n"
     ]
    }
   ],
   "source": [
    " from sklearn.neighbors import KNeighborsClassifier\n",
    "    \n",
    "train_start = time.time()\n",
    "KNN_classifier = KNeighborsClassifier(n_neighbors=5, metric='euclidean')\n",
    "KNN_classifier.fit(X_train, y_train)\n",
    "traing_time = int((time.time() - train_start)*1000)\n",
    "    \n",
    "predict_start= time.time()\n",
    "y_pred = KNN_classifier.predict(X_test)\n",
    "predict_time = int((time.time() - predict_start)*1000)\n",
    "    \n",
    "accuracy = accuracy_score(y_test,y_pred)*100\n",
    "    \n",
    "performance_result.append(['KNN',traing_time,predict_time,accuracy])\n",
    "\n",
    "print(classification_report(y_test, y_pred))"
   ]
  },
  {
   "cell_type": "code",
   "execution_count": 14,
   "metadata": {},
   "outputs": [
    {
     "name": "stdout",
     "output_type": "stream",
     "text": [
      "              precision    recall  f1-score   support\n",
      "\n",
      "           0       0.89      0.81      0.85       202\n",
      "           1       0.58      0.90      0.71       209\n",
      "           2       0.68      0.67      0.68       213\n",
      "           3       0.68      0.68      0.68       205\n",
      "           4       0.66      0.65      0.66       197\n",
      "           5       0.84      0.67      0.75       212\n",
      "           6       0.82      0.82      0.82       196\n",
      "           7       0.75      0.76      0.75       195\n",
      "           8       0.83      0.67      0.74       195\n",
      "           9       0.71      0.65      0.67       178\n",
      "\n",
      "    accuracy                           0.73      2002\n",
      "   macro avg       0.74      0.73      0.73      2002\n",
      "weighted avg       0.74      0.73      0.73      2002\n",
      "\n"
     ]
    }
   ],
   "source": [
    "from sklearn import svm\n",
    "\n",
    "train_start = time.time()\n",
    "svm_classifier = svm.SVC(kernel='rbf',gamma=0.001,C=5)\n",
    "svm_classifier.fit(X_train, y_train)\n",
    "traing_time = int((time.time() - train_start)*1000)\n",
    "    \n",
    "predict_start= time.time()\n",
    "y_pred = svm_classifier.predict(X_test)\n",
    "predict_time = int((time.time() - predict_start)*1000)\n",
    "    \n",
    "accuracy = accuracy_score(y_test,y_pred)*100\n",
    "    \n",
    "performance_result.append(['SVM',traing_time,predict_time,accuracy])\n",
    "\n",
    "print(classification_report(y_test, y_pred))"
   ]
  },
  {
   "cell_type": "code",
   "execution_count": 15,
   "metadata": {},
   "outputs": [
    {
     "name": "stdout",
     "output_type": "stream",
     "text": [
      "              precision    recall  f1-score   support\n",
      "\n",
      "           0       0.77      0.70      0.74       202\n",
      "           1       0.62      0.69      0.65       209\n",
      "           2       0.72      0.37      0.49       213\n",
      "           3       0.79      0.27      0.41       205\n",
      "           4       0.45      0.34      0.39       197\n",
      "           5       0.68      0.33      0.44       212\n",
      "           6       0.37      0.94      0.53       196\n",
      "           7       0.83      0.22      0.35       195\n",
      "           8       0.29      0.72      0.41       195\n",
      "           9       0.55      0.37      0.44       178\n",
      "\n",
      "    accuracy                           0.49      2002\n",
      "   macro avg       0.61      0.49      0.48      2002\n",
      "weighted avg       0.61      0.49      0.49      2002\n",
      "\n"
     ]
    }
   ],
   "source": [
    "from sklearn.naive_bayes import GaussianNB\n",
    "    \n",
    "train_start = time.time()\n",
    "nb_classifier = GaussianNB()\n",
    "nb_classifier.fit(X_train, y_train)\n",
    "traing_time = int((time.time() - train_start)*1000)\n",
    "    \n",
    "predict_start= time.time()\n",
    "y_pred = nb_classifier.predict(X_test)\n",
    "predict_time = int((time.time() - predict_start)*1000)\n",
    "    \n",
    "accuracy = accuracy_score(y_test,y_pred)*100\n",
    "    \n",
    "performance_result.append(['NB',traing_time,predict_time,accuracy])\n",
    "print(classification_report(y_test, y_pred))"
   ]
  },
  {
   "cell_type": "code",
   "execution_count": 16,
   "metadata": {},
   "outputs": [
    {
     "name": "stdout",
     "output_type": "stream",
     "text": [
      "              precision    recall  f1-score   support\n",
      "\n",
      "           0       0.80      0.80      0.80       202\n",
      "           1       0.78      0.79      0.78       209\n",
      "           2       0.55      0.50      0.52       213\n",
      "           3       0.57      0.59      0.58       205\n",
      "           4       0.69      0.75      0.72       197\n",
      "           5       0.68      0.53      0.60       212\n",
      "           6       0.76      0.84      0.80       196\n",
      "           7       0.63      0.71      0.67       195\n",
      "           8       0.73      0.72      0.73       195\n",
      "           9       0.66      0.66      0.66       178\n",
      "\n",
      "    accuracy                           0.69      2002\n",
      "   macro avg       0.69      0.69      0.69      2002\n",
      "weighted avg       0.69      0.69      0.68      2002\n",
      "\n"
     ]
    }
   ],
   "source": [
    "from sklearn.tree import DecisionTreeClassifier\n",
    "    \n",
    "train_start = time.time()\n",
    "dt_classifier = DecisionTreeClassifier()\n",
    "dt_classifier.fit(X_train, y_train)\n",
    "traing_time = int((time.time() - train_start)*1000)\n",
    "    \n",
    "predict_start= time.time()\n",
    "y_pred = dt_classifier.predict(X_test)\n",
    "predict_time = int((time.time() - predict_start)*1000)\n",
    "    \n",
    "accuracy = accuracy_score(y_test,y_pred)*100\n",
    "    \n",
    "performance_result.append(['DT',traing_time,predict_time,accuracy])\n",
    "print(classification_report(y_test, y_pred))"
   ]
  },
  {
   "cell_type": "code",
   "execution_count": 17,
   "metadata": {},
   "outputs": [
    {
     "name": "stdout",
     "output_type": "stream",
     "text": [
      "              precision    recall  f1-score   support\n",
      "\n",
      "           0       0.77      0.58      0.66       202\n",
      "           1       0.42      0.91      0.58       209\n",
      "           2       0.65      0.15      0.25       213\n",
      "           3       0.52      0.47      0.49       205\n",
      "           4       0.62      0.25      0.36       197\n",
      "           5       0.63      0.33      0.44       212\n",
      "           6       0.43      0.87      0.58       196\n",
      "           7       0.48      0.49      0.48       195\n",
      "           8       0.43      0.62      0.51       195\n",
      "           9       0.59      0.29      0.38       178\n",
      "\n",
      "    accuracy                           0.50      2002\n",
      "   macro avg       0.55      0.50      0.47      2002\n",
      "weighted avg       0.55      0.50      0.47      2002\n",
      "\n"
     ]
    }
   ],
   "source": [
    "from sklearn.ensemble import RandomForestClassifier\n",
    "    \n",
    "train_start = time.time()\n",
    "RF_classifier = RandomForestClassifier(max_depth=2, random_state=0)\n",
    "RF_classifier.fit(X_train, y_train)\n",
    "traing_time = int((time.time() - train_start)*1000)\n",
    "    \n",
    "predict_start= time.time()\n",
    "y_pred = RF_classifier.predict(X_test)\n",
    "predict_time = int((time.time() - predict_start)*1000)\n",
    "    \n",
    "accuracy = accuracy_score(y_test,y_pred)*100\n",
    "    \n",
    "performance_result.append(['RF',traing_time,predict_time,accuracy])\n",
    "print(classification_report(y_test, y_pred))"
   ]
  },
  {
   "cell_type": "code",
   "execution_count": 18,
   "metadata": {},
   "outputs": [
    {
     "name": "stdout",
     "output_type": "stream",
     "text": [
      "              precision    recall  f1-score   support\n",
      "\n",
      "           0       0.98      0.40      0.57       202\n",
      "           1       0.57      0.51      0.54       209\n",
      "           2       0.86      0.17      0.28       213\n",
      "           3       0.22      0.94      0.36       205\n",
      "           4       0.84      0.39      0.53       197\n",
      "           5       0.94      0.15      0.26       212\n",
      "           6       0.78      0.74      0.76       196\n",
      "           7       0.94      0.16      0.27       195\n",
      "           8       0.63      0.56      0.59       195\n",
      "           9       0.42      0.70      0.52       178\n",
      "\n",
      "    accuracy                           0.47      2002\n",
      "   macro avg       0.72      0.47      0.47      2002\n",
      "weighted avg       0.72      0.47      0.46      2002\n",
      "\n"
     ]
    },
    {
     "name": "stderr",
     "output_type": "stream",
     "text": [
      "C:\\Users\\Yunao\\anaconda3\\lib\\site-packages\\sklearn\\linear_model\\_stochastic_gradient.py:570: ConvergenceWarning: Maximum number of iteration reached before convergence. Consider increasing max_iter to improve the fit.\n",
      "  warnings.warn(\"Maximum number of iteration reached before \"\n"
     ]
    }
   ],
   "source": [
    "from sklearn.linear_model import SGDClassifier\n",
    "    \n",
    "train_start = time.time()\n",
    "sgd_classifier = SGDClassifier(loss=\"hinge\", penalty=\"l2\", max_iter=5)\n",
    "sgd_classifier.fit(X_train, y_train)\n",
    "traing_time = int((time.time() - train_start)*1000)\n",
    "    \n",
    "predict_start= time.time()\n",
    "y_pred = sgd_classifier.predict(X_test)\n",
    "predict_time = int((time.time() - predict_start)*1000)\n",
    "    \n",
    "accuracy = accuracy_score(y_test,y_pred)*100\n",
    "    \n",
    "performance_result.append(['GD',traing_time,predict_time,accuracy])\n",
    "print(classification_report(y_test, y_pred))"
   ]
  },
  {
   "cell_type": "code",
   "execution_count": 19,
   "metadata": {},
   "outputs": [
    {
     "data": {
      "text/html": [
       "<div>\n",
       "<style scoped>\n",
       "    .dataframe tbody tr th:only-of-type {\n",
       "        vertical-align: middle;\n",
       "    }\n",
       "\n",
       "    .dataframe tbody tr th {\n",
       "        vertical-align: top;\n",
       "    }\n",
       "\n",
       "    .dataframe thead th {\n",
       "        text-align: right;\n",
       "    }\n",
       "</style>\n",
       "<table border=\"1\" class=\"dataframe\">\n",
       "  <thead>\n",
       "    <tr style=\"text-align: right;\">\n",
       "      <th></th>\n",
       "      <th>Model</th>\n",
       "      <th>training duration(ms)</th>\n",
       "      <th>predicting duration(ms)</th>\n",
       "      <th>accuracy score</th>\n",
       "    </tr>\n",
       "  </thead>\n",
       "  <tbody>\n",
       "    <tr>\n",
       "      <th>0</th>\n",
       "      <td>KNN</td>\n",
       "      <td>788</td>\n",
       "      <td>6022</td>\n",
       "      <td>44.66</td>\n",
       "    </tr>\n",
       "    <tr>\n",
       "      <th>1</th>\n",
       "      <td>SVM</td>\n",
       "      <td>17899</td>\n",
       "      <td>3684</td>\n",
       "      <td>72.93</td>\n",
       "    </tr>\n",
       "    <tr>\n",
       "      <th>2</th>\n",
       "      <td>NB</td>\n",
       "      <td>88</td>\n",
       "      <td>104</td>\n",
       "      <td>49.40</td>\n",
       "    </tr>\n",
       "    <tr>\n",
       "      <th>3</th>\n",
       "      <td>DT</td>\n",
       "      <td>547</td>\n",
       "      <td>5</td>\n",
       "      <td>68.68</td>\n",
       "    </tr>\n",
       "    <tr>\n",
       "      <th>4</th>\n",
       "      <td>RF</td>\n",
       "      <td>444</td>\n",
       "      <td>34</td>\n",
       "      <td>49.85</td>\n",
       "    </tr>\n",
       "    <tr>\n",
       "      <th>5</th>\n",
       "      <td>GD</td>\n",
       "      <td>210</td>\n",
       "      <td>4</td>\n",
       "      <td>46.65</td>\n",
       "    </tr>\n",
       "  </tbody>\n",
       "</table>\n",
       "</div>"
      ],
      "text/plain": [
       "  Model  training duration(ms)  predicting duration(ms)  accuracy score\n",
       "0   KNN                    788                     6022           44.66\n",
       "1   SVM                  17899                     3684           72.93\n",
       "2    NB                     88                      104           49.40\n",
       "3    DT                    547                        5           68.68\n",
       "4    RF                    444                       34           49.85\n",
       "5    GD                    210                        4           46.65"
      ]
     },
     "execution_count": 19,
     "metadata": {},
     "output_type": "execute_result"
    }
   ],
   "source": [
    "eva_df = pd.DataFrame(performance_result, columns =evaluation_col)\n",
    "eva_df = eva_df.round(2)\n",
    "eva_df"
   ]
  },
  {
   "cell_type": "code",
   "execution_count": null,
   "metadata": {},
   "outputs": [],
   "source": []
  }
 ],
 "metadata": {
  "kernelspec": {
   "display_name": "Python 3",
   "language": "python",
   "name": "python3"
  },
  "language_info": {
   "codemirror_mode": {
    "name": "ipython",
    "version": 3
   },
   "file_extension": ".py",
   "mimetype": "text/x-python",
   "name": "python",
   "nbconvert_exporter": "python",
   "pygments_lexer": "ipython3",
   "version": "3.8.5"
  }
 },
 "nbformat": 4,
 "nbformat_minor": 4
}
