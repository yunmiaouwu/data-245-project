{
 "cells": [
  {
   "cell_type": "code",
   "execution_count": 1,
   "metadata": {},
   "outputs": [],
   "source": [
    "import numpy as np\n",
    "import os\n",
    "import PIL\n",
    "import PIL.Image\n",
    "import pandas as pd\n",
    "from PIL import Image\n",
    "import matplotlib.image as mpimg\n",
    "import matplotlib.pyplot as plt\n",
    "from sklearn.model_selection import train_test_split\n",
    "from sklearn.manifold import TSNE\n",
    "import seaborn as sns\n",
    "from sklearn.preprocessing import LabelBinarizer\n",
    "from tensorflow.keras.utils import to_categorical\n",
    "\n",
    "from datetime import datetime as dt\n",
    "from sklearn.metrics import classification_report, confusion_matrix, accuracy_score"
   ]
  },
  {
   "cell_type": "code",
   "execution_count": 2,
   "metadata": {},
   "outputs": [
    {
     "name": "stdout",
     "output_type": "stream",
     "text": [
      "['phi', 'q', 'gt', 'theta', 'sin', 'div', 'cos', 'G', 'T', 'j', 'f', 'u', '!', 'times', 'C', '8', 'pm', 'forward_slash', 'p', 'log', ']', 'sum', 'N', '5', 'Delta', 'H', 'tan', 'S', 'prime', 'ldots', 'rightarrow', 'neq', '-', 'M', 'A', 'e', 'l', 'gamma', 'exists', 'k', '4', ',', 'in', 'pi', '=', '0', '3', 'leq', 'd', '+', 'alpha', '1', 'X', 'lim', '{', '7', 'lambda', '}', 'ascii_124', 'beta', 'mu', 'forall', 'sigma', '9', 'o', '2', 'b', 'R', 'geq', 'y', 'w', '[', '(', 'lt', ')', 'z', '6', 'sqrt', 'infty', 'v', 'int', 'i']\n"
     ]
    }
   ],
   "source": [
    "folders=os.listdir( '245_data')\n",
    "print(folders)"
   ]
  },
  {
   "cell_type": "code",
   "execution_count": 3,
   "metadata": {},
   "outputs": [
    {
     "data": {
      "text/html": [
       "<div>\n",
       "<style scoped>\n",
       "    .dataframe tbody tr th:only-of-type {\n",
       "        vertical-align: middle;\n",
       "    }\n",
       "\n",
       "    .dataframe tbody tr th {\n",
       "        vertical-align: top;\n",
       "    }\n",
       "\n",
       "    .dataframe thead th {\n",
       "        text-align: right;\n",
       "    }\n",
       "</style>\n",
       "<table border=\"1\" class=\"dataframe\">\n",
       "  <thead>\n",
       "    <tr style=\"text-align: right;\">\n",
       "      <th></th>\n",
       "      <th>0</th>\n",
       "      <th>1</th>\n",
       "      <th>2</th>\n",
       "      <th>3</th>\n",
       "      <th>4</th>\n",
       "      <th>5</th>\n",
       "      <th>6</th>\n",
       "      <th>7</th>\n",
       "      <th>8</th>\n",
       "      <th>9</th>\n",
       "      <th>...</th>\n",
       "      <th>247</th>\n",
       "      <th>248</th>\n",
       "      <th>249</th>\n",
       "      <th>250</th>\n",
       "      <th>251</th>\n",
       "      <th>252</th>\n",
       "      <th>253</th>\n",
       "      <th>254</th>\n",
       "      <th>255</th>\n",
       "      <th>label</th>\n",
       "    </tr>\n",
       "  </thead>\n",
       "  <tbody>\n",
       "    <tr>\n",
       "      <th>0</th>\n",
       "      <td>0</td>\n",
       "      <td>0</td>\n",
       "      <td>0</td>\n",
       "      <td>0</td>\n",
       "      <td>0</td>\n",
       "      <td>0</td>\n",
       "      <td>0</td>\n",
       "      <td>0</td>\n",
       "      <td>1</td>\n",
       "      <td>1</td>\n",
       "      <td>...</td>\n",
       "      <td>0</td>\n",
       "      <td>0</td>\n",
       "      <td>0</td>\n",
       "      <td>0</td>\n",
       "      <td>0</td>\n",
       "      <td>0</td>\n",
       "      <td>0</td>\n",
       "      <td>0</td>\n",
       "      <td>0</td>\n",
       "      <td>phi</td>\n",
       "    </tr>\n",
       "    <tr>\n",
       "      <th>1</th>\n",
       "      <td>0</td>\n",
       "      <td>0</td>\n",
       "      <td>0</td>\n",
       "      <td>0</td>\n",
       "      <td>0</td>\n",
       "      <td>0</td>\n",
       "      <td>0</td>\n",
       "      <td>0</td>\n",
       "      <td>0</td>\n",
       "      <td>1</td>\n",
       "      <td>...</td>\n",
       "      <td>0</td>\n",
       "      <td>0</td>\n",
       "      <td>0</td>\n",
       "      <td>0</td>\n",
       "      <td>0</td>\n",
       "      <td>0</td>\n",
       "      <td>0</td>\n",
       "      <td>0</td>\n",
       "      <td>0</td>\n",
       "      <td>phi</td>\n",
       "    </tr>\n",
       "    <tr>\n",
       "      <th>2</th>\n",
       "      <td>0</td>\n",
       "      <td>0</td>\n",
       "      <td>0</td>\n",
       "      <td>0</td>\n",
       "      <td>0</td>\n",
       "      <td>0</td>\n",
       "      <td>0</td>\n",
       "      <td>0</td>\n",
       "      <td>1</td>\n",
       "      <td>1</td>\n",
       "      <td>...</td>\n",
       "      <td>0</td>\n",
       "      <td>0</td>\n",
       "      <td>0</td>\n",
       "      <td>0</td>\n",
       "      <td>0</td>\n",
       "      <td>0</td>\n",
       "      <td>0</td>\n",
       "      <td>0</td>\n",
       "      <td>0</td>\n",
       "      <td>phi</td>\n",
       "    </tr>\n",
       "    <tr>\n",
       "      <th>3</th>\n",
       "      <td>0</td>\n",
       "      <td>0</td>\n",
       "      <td>0</td>\n",
       "      <td>0</td>\n",
       "      <td>0</td>\n",
       "      <td>0</td>\n",
       "      <td>0</td>\n",
       "      <td>0</td>\n",
       "      <td>0</td>\n",
       "      <td>0</td>\n",
       "      <td>...</td>\n",
       "      <td>0</td>\n",
       "      <td>0</td>\n",
       "      <td>0</td>\n",
       "      <td>0</td>\n",
       "      <td>0</td>\n",
       "      <td>0</td>\n",
       "      <td>0</td>\n",
       "      <td>0</td>\n",
       "      <td>0</td>\n",
       "      <td>phi</td>\n",
       "    </tr>\n",
       "    <tr>\n",
       "      <th>4</th>\n",
       "      <td>0</td>\n",
       "      <td>0</td>\n",
       "      <td>0</td>\n",
       "      <td>0</td>\n",
       "      <td>0</td>\n",
       "      <td>0</td>\n",
       "      <td>0</td>\n",
       "      <td>0</td>\n",
       "      <td>0</td>\n",
       "      <td>1</td>\n",
       "      <td>...</td>\n",
       "      <td>1</td>\n",
       "      <td>1</td>\n",
       "      <td>0</td>\n",
       "      <td>0</td>\n",
       "      <td>0</td>\n",
       "      <td>0</td>\n",
       "      <td>0</td>\n",
       "      <td>0</td>\n",
       "      <td>0</td>\n",
       "      <td>phi</td>\n",
       "    </tr>\n",
       "  </tbody>\n",
       "</table>\n",
       "<p>5 rows × 257 columns</p>\n",
       "</div>"
      ],
      "text/plain": [
       "   0  1  2  3  4  5  6  7  8  9  ...  247  248  249  250  251  252  253  254  \\\n",
       "0  0  0  0  0  0  0  0  0  1  1  ...    0    0    0    0    0    0    0    0   \n",
       "1  0  0  0  0  0  0  0  0  0  1  ...    0    0    0    0    0    0    0    0   \n",
       "2  0  0  0  0  0  0  0  0  1  1  ...    0    0    0    0    0    0    0    0   \n",
       "3  0  0  0  0  0  0  0  0  0  0  ...    0    0    0    0    0    0    0    0   \n",
       "4  0  0  0  0  0  0  0  0  0  1  ...    1    1    0    0    0    0    0    0   \n",
       "\n",
       "   255  label  \n",
       "0    0    phi  \n",
       "1    0    phi  \n",
       "2    0    phi  \n",
       "3    0    phi  \n",
       "4    0    phi  \n",
       "\n",
       "[5 rows x 257 columns]"
      ]
     },
     "execution_count": 3,
     "metadata": {},
     "output_type": "execute_result"
    }
   ],
   "source": [
    "import cv2\n",
    "from matplotlib import pyplot as plt\n",
    "\n",
    "if os.path.exists('245_data.csv'):\n",
    "    df = pd.read_csv('245_data.csv', low_memory=False)\n",
    "    del df['Unnamed: 0']\n",
    "else:\n",
    "    data = []\n",
    "    label = []\n",
    "\n",
    "    for each in folders:\n",
    "        print(each)\n",
    "        file_ct=0\n",
    "        currentFolder = '245_data/' + each\n",
    "        for i, file in enumerate(os.listdir(currentFolder)):\n",
    "            if file_ct > 1000:\n",
    "                break\n",
    "            im= cv2.imread((os.path.join(currentFolder, file)))\n",
    "            img=cv2.cvtColor(im,cv2.COLOR_BGR2GRAY)\n",
    "            #resize\n",
    "            img = 255 - img\n",
    "            img = cv2.resize(img, (16, 16), interpolation=cv2.INTER_AREA)\n",
    "            img[img < 10] = 0\n",
    "            img[img >= 10] = 1\n",
    "#             print(img)\n",
    "            \n",
    "#             plt.imshow(img)\n",
    "#             plt.show()\n",
    "#             raise Exception()\n",
    "        \n",
    "            img = img.ravel()\n",
    "            img = img.tolist()\n",
    "        \n",
    "            data.append(img)\n",
    "            label.append(each)\n",
    "            file_ct+=1\n",
    "\n",
    "    df = pd.DataFrame(data)\n",
    "    df[\"label\"] = label\n",
    "    df.to_csv('245_data.csv')\n",
    "\n",
    "df.head()"
   ]
  },
  {
   "cell_type": "code",
   "execution_count": 4,
   "metadata": {},
   "outputs": [
    {
     "data": {
      "text/plain": [
       "(67640, 257)"
      ]
     },
     "execution_count": 4,
     "metadata": {},
     "output_type": "execute_result"
    }
   ],
   "source": [
    "df.shape"
   ]
  },
  {
   "cell_type": "code",
   "execution_count": 5,
   "metadata": {},
   "outputs": [],
   "source": [
    "numeric_data=['0', '1', '2', '3', '4', '5', '6', '7', '8', '9']\n",
    "alpha_data=['A', 'b','C','d', 'e', 'f', 'G', 'H', 'i', 'j', 'k', 'l', 'M', 'mu', 'N','o', 'p','q', 'R','S','T', 'u', 'v', 'w', 'X', 'y', 'z']\n",
    "symbol_data=['!', '(', ')', '+', ',', '-','=','alpha', 'ascii_124', 'beta', 'cos', 'Delta', 'div','exists', 'forall', 'forward_slash','gamma', 'geq', 'gt', 'in', 'infty', 'int','lambda', 'ldots', 'leq', 'lim', 'log', 'lt','mu', 'neq', 'phi', 'pi', 'pm', 'prime', 'rightarrow', 'sigma', 'sin', 'sqrt', 'sum', 'tan', 'theta', 'times', '[', ']', '{', '}']"
   ]
  },
  {
   "cell_type": "markdown",
   "metadata": {},
   "source": [
    "EDA"
   ]
  },
  {
   "cell_type": "code",
   "execution_count": 6,
   "metadata": {},
   "outputs": [
    {
     "data": {
      "text/plain": [
       "Text(0, 0.5, 'Count')"
      ]
     },
     "execution_count": 6,
     "metadata": {},
     "output_type": "execute_result"
    },
    {
     "data": {
      "image/png": "[encoded data removed]",
      "text/plain": [
       "<Figure size 1440x1080 with 1 Axes>"
      ]
     },
     "metadata": {
      "needs_background": "light"
     },
     "output_type": "display_data"
    }
   ],
   "source": [
    "plt.figure(figsize=(20,15))\n",
    "pd.value_counts(df['label']).plot.bar()\n",
    "plt.xlabel('Label', fontsize = 15)\n",
    "plt.ylabel('Count', fontsize = 15)"
   ]
  },
  {
   "cell_type": "code",
   "execution_count": 7,
   "metadata": {},
   "outputs": [],
   "source": [
    "#original image instance\n",
    "import cv2\n",
    "from tensorflow.keras.preprocessing.image import img_to_array\n",
    "i=0\n",
    "original_image=[]\n",
    "path = r'245_data/1/1_2.jpg'\n",
    "im= cv2.imread(path)\n",
    "img=cv2.cvtColor(im,cv2.COLOR_BGR2RGB)\n",
    "original_image.append(img_to_array(img))\n",
    "\n",
    "\n",
    "#processed image instance\n",
    "processed_image=[]\n",
    "im= cv2.imread(path)\n",
    "img=cv2.cvtColor(im,cv2.COLOR_BGR2GRAY)\n",
    "resized_image = cv2.resize(img, (8,8))   \n",
    "resized_image = resized_image.astype('float32') / 255\n",
    "processed_image.append(img_to_array(resized_image))"
   ]
  },
  {
   "cell_type": "code",
   "execution_count": 8,
   "metadata": {},
   "outputs": [
    {
     "name": "stderr",
     "output_type": "stream",
     "text": [
      "Clipping input data to the valid range for imshow with RGB data ([0..1] for floats or [0..255] for integers).\n"
     ]
    },
    {
     "data": {
      "image/png": "[encoded data removed]",
      "text/plain": [
       "<Figure size 1200x560 with 2 Axes>"
      ]
     },
     "metadata": {
      "needs_background": "light"
     },
     "output_type": "display_data"
    }
   ],
   "source": [
    "fig, ax = plt.subplots(nrows=1, ncols=2, figsize=(15, 7), dpi=80, sharex=True, sharey=True)\n",
    "\n",
    "\n",
    "ax[1].imshow(np.squeeze(processed_image),cmap='gray')\n",
    "ax[0].imshow(np.squeeze(original_image))\n",
    "\n",
    "ax[0].title.set_text('Original Image')\n",
    "ax[1].title.set_text('Processed Image')"
   ]
  },
  {
   "cell_type": "markdown",
   "metadata": {},
   "source": [
    "Prepare dataset to train"
   ]
  },
  {
   "cell_type": "code",
   "execution_count": 9,
   "metadata": {},
   "outputs": [
    {
     "data": {
      "text/plain": [
       "(63674, 257)"
      ]
     },
     "execution_count": 9,
     "metadata": {},
     "output_type": "execute_result"
    }
   ],
   "source": [
    "#remove outlier\n",
    "df1 = df[df.groupby(['label'])['label'].transform('count') > 500]\n",
    "df1.shape"
   ]
  },
  {
   "cell_type": "code",
   "execution_count": 10,
   "metadata": {},
   "outputs": [
    {
     "data": {
      "text/plain": [
       "66"
      ]
     },
     "execution_count": 10,
     "metadata": {},
     "output_type": "execute_result"
    }
   ],
   "source": [
    "len(set(df1.label))"
   ]
  },
  {
   "cell_type": "code",
   "execution_count": 11,
   "metadata": {},
   "outputs": [
    {
     "name": "stderr",
     "output_type": "stream",
     "text": [
      "/tmp/ipykernel_66603/1237765912.py:6: SettingWithCopyWarning: \n",
      "A value is trying to be set on a copy of a slice from a DataFrame.\n",
      "Try using .loc[row_indexer,col_indexer] = value instead\n",
      "\n",
      "See the caveats in the documentation: https://pandas.pydata.org/pandas-docs/stable/user_guide/indexing.html#returning-a-view-versus-a-copy\n",
      "  df1['label'] = label_encoded\n"
     ]
    }
   ],
   "source": [
    "data=df1.iloc[:,:-1]\n",
    "label=df1.iloc[:,-1]\n",
    "\n",
    "from sklearn.preprocessing import LabelEncoder\n",
    "label_encoded = LabelEncoder().fit_transform(label)\n",
    "df1['label'] = label_encoded\n",
    "\n",
    "#60% train, 20% test, 20% validation\n",
    "train, test = train_test_split(df1, test_size=0.2, random_state=22, shuffle=True)\n",
    "train, val = train_test_split(train, test_size=0.25, random_state=22)"
   ]
  },
  {
   "cell_type": "code",
   "execution_count": 12,
   "metadata": {},
   "outputs": [
    {
     "data": {
      "text/html": [
       "<div>\n",
       "<style scoped>\n",
       "    .dataframe tbody tr th:only-of-type {\n",
       "        vertical-align: middle;\n",
       "    }\n",
       "\n",
       "    .dataframe tbody tr th {\n",
       "        vertical-align: top;\n",
       "    }\n",
       "\n",
       "    .dataframe thead th {\n",
       "        text-align: right;\n",
       "    }\n",
       "</style>\n",
       "<table border=\"1\" class=\"dataframe\">\n",
       "  <thead>\n",
       "    <tr style=\"text-align: right;\">\n",
       "      <th></th>\n",
       "      <th>0</th>\n",
       "      <th>1</th>\n",
       "      <th>2</th>\n",
       "      <th>3</th>\n",
       "      <th>4</th>\n",
       "      <th>5</th>\n",
       "      <th>6</th>\n",
       "      <th>7</th>\n",
       "      <th>8</th>\n",
       "      <th>9</th>\n",
       "      <th>...</th>\n",
       "      <th>247</th>\n",
       "      <th>248</th>\n",
       "      <th>249</th>\n",
       "      <th>250</th>\n",
       "      <th>251</th>\n",
       "      <th>252</th>\n",
       "      <th>253</th>\n",
       "      <th>254</th>\n",
       "      <th>255</th>\n",
       "      <th>label</th>\n",
       "    </tr>\n",
       "  </thead>\n",
       "  <tbody>\n",
       "    <tr>\n",
       "      <th>44006</th>\n",
       "      <td>0</td>\n",
       "      <td>0</td>\n",
       "      <td>0</td>\n",
       "      <td>0</td>\n",
       "      <td>0</td>\n",
       "      <td>0</td>\n",
       "      <td>0</td>\n",
       "      <td>0</td>\n",
       "      <td>0</td>\n",
       "      <td>0</td>\n",
       "      <td>...</td>\n",
       "      <td>0</td>\n",
       "      <td>0</td>\n",
       "      <td>0</td>\n",
       "      <td>0</td>\n",
       "      <td>0</td>\n",
       "      <td>0</td>\n",
       "      <td>0</td>\n",
       "      <td>0</td>\n",
       "      <td>0</td>\n",
       "      <td>7</td>\n",
       "    </tr>\n",
       "    <tr>\n",
       "      <th>59889</th>\n",
       "      <td>0</td>\n",
       "      <td>0</td>\n",
       "      <td>0</td>\n",
       "      <td>0</td>\n",
       "      <td>0</td>\n",
       "      <td>0</td>\n",
       "      <td>0</td>\n",
       "      <td>0</td>\n",
       "      <td>1</td>\n",
       "      <td>0</td>\n",
       "      <td>...</td>\n",
       "      <td>0</td>\n",
       "      <td>0</td>\n",
       "      <td>0</td>\n",
       "      <td>0</td>\n",
       "      <td>0</td>\n",
       "      <td>0</td>\n",
       "      <td>0</td>\n",
       "      <td>0</td>\n",
       "      <td>0</td>\n",
       "      <td>2</td>\n",
       "    </tr>\n",
       "    <tr>\n",
       "      <th>9430</th>\n",
       "      <td>0</td>\n",
       "      <td>0</td>\n",
       "      <td>0</td>\n",
       "      <td>0</td>\n",
       "      <td>0</td>\n",
       "      <td>0</td>\n",
       "      <td>0</td>\n",
       "      <td>0</td>\n",
       "      <td>1</td>\n",
       "      <td>1</td>\n",
       "      <td>...</td>\n",
       "      <td>1</td>\n",
       "      <td>0</td>\n",
       "      <td>0</td>\n",
       "      <td>0</td>\n",
       "      <td>0</td>\n",
       "      <td>0</td>\n",
       "      <td>0</td>\n",
       "      <td>0</td>\n",
       "      <td>0</td>\n",
       "      <td>37</td>\n",
       "    </tr>\n",
       "    <tr>\n",
       "      <th>5356</th>\n",
       "      <td>0</td>\n",
       "      <td>0</td>\n",
       "      <td>0</td>\n",
       "      <td>0</td>\n",
       "      <td>0</td>\n",
       "      <td>0</td>\n",
       "      <td>0</td>\n",
       "      <td>0</td>\n",
       "      <td>0</td>\n",
       "      <td>0</td>\n",
       "      <td>...</td>\n",
       "      <td>0</td>\n",
       "      <td>0</td>\n",
       "      <td>0</td>\n",
       "      <td>0</td>\n",
       "      <td>0</td>\n",
       "      <td>0</td>\n",
       "      <td>0</td>\n",
       "      <td>0</td>\n",
       "      <td>0</td>\n",
       "      <td>33</td>\n",
       "    </tr>\n",
       "    <tr>\n",
       "      <th>19582</th>\n",
       "      <td>0</td>\n",
       "      <td>0</td>\n",
       "      <td>0</td>\n",
       "      <td>0</td>\n",
       "      <td>0</td>\n",
       "      <td>0</td>\n",
       "      <td>0</td>\n",
       "      <td>0</td>\n",
       "      <td>0</td>\n",
       "      <td>0</td>\n",
       "      <td>...</td>\n",
       "      <td>0</td>\n",
       "      <td>0</td>\n",
       "      <td>0</td>\n",
       "      <td>0</td>\n",
       "      <td>0</td>\n",
       "      <td>0</td>\n",
       "      <td>0</td>\n",
       "      <td>0</td>\n",
       "      <td>0</td>\n",
       "      <td>22</td>\n",
       "    </tr>\n",
       "  </tbody>\n",
       "</table>\n",
       "<p>5 rows × 257 columns</p>\n",
       "</div>"
      ],
      "text/plain": [
       "       0  1  2  3  4  5  6  7  8  9  ...  247  248  249  250  251  252  253  \\\n",
       "44006  0  0  0  0  0  0  0  0  0  0  ...    0    0    0    0    0    0    0   \n",
       "59889  0  0  0  0  0  0  0  0  1  0  ...    0    0    0    0    0    0    0   \n",
       "9430   0  0  0  0  0  0  0  0  1  1  ...    1    0    0    0    0    0    0   \n",
       "5356   0  0  0  0  0  0  0  0  0  0  ...    0    0    0    0    0    0    0   \n",
       "19582  0  0  0  0  0  0  0  0  0  0  ...    0    0    0    0    0    0    0   \n",
       "\n",
       "       254  255  label  \n",
       "44006    0    0      7  \n",
       "59889    0    0      2  \n",
       "9430     0    0     37  \n",
       "5356     0    0     33  \n",
       "19582    0    0     22  \n",
       "\n",
       "[5 rows x 257 columns]"
      ]
     },
     "execution_count": 12,
     "metadata": {},
     "output_type": "execute_result"
    }
   ],
   "source": [
    "train.head()"
   ]
  },
  {
   "cell_type": "code",
   "execution_count": 13,
   "metadata": {},
   "outputs": [
    {
     "name": "stdout",
     "output_type": "stream",
     "text": [
      "train: 42240, validation: 12735, test: 12735\n"
     ]
    }
   ],
   "source": [
    "def balance(df):\n",
    "    groupby = df.groupby('label')\n",
    "    df = groupby.apply(lambda x: x.sample(groupby.size().max(), replace=True).reset_index(drop=True))\n",
    "    del df['label']\n",
    "    df = df.reset_index()\n",
    "    del df['level_1']\n",
    "    df = df.sample(frac=1)\n",
    "    return df\n",
    "\n",
    "train = balance(train)\n",
    "\n",
    "print(f'train: {len(train)}, validation: {len(val)}, test: {len(test)}')"
   ]
  },
  {
   "cell_type": "code",
   "execution_count": 14,
   "metadata": {},
   "outputs": [
    {
     "data": {
      "text/html": [
       "<div>\n",
       "<style scoped>\n",
       "    .dataframe tbody tr th:only-of-type {\n",
       "        vertical-align: middle;\n",
       "    }\n",
       "\n",
       "    .dataframe tbody tr th {\n",
       "        vertical-align: top;\n",
       "    }\n",
       "\n",
       "    .dataframe thead th {\n",
       "        text-align: right;\n",
       "    }\n",
       "</style>\n",
       "<table border=\"1\" class=\"dataframe\">\n",
       "  <thead>\n",
       "    <tr style=\"text-align: right;\">\n",
       "      <th></th>\n",
       "      <th>label</th>\n",
       "      <th>0</th>\n",
       "      <th>1</th>\n",
       "      <th>2</th>\n",
       "      <th>3</th>\n",
       "      <th>4</th>\n",
       "      <th>5</th>\n",
       "      <th>6</th>\n",
       "      <th>7</th>\n",
       "      <th>8</th>\n",
       "      <th>...</th>\n",
       "      <th>246</th>\n",
       "      <th>247</th>\n",
       "      <th>248</th>\n",
       "      <th>249</th>\n",
       "      <th>250</th>\n",
       "      <th>251</th>\n",
       "      <th>252</th>\n",
       "      <th>253</th>\n",
       "      <th>254</th>\n",
       "      <th>255</th>\n",
       "    </tr>\n",
       "  </thead>\n",
       "  <tbody>\n",
       "    <tr>\n",
       "      <th>31611</th>\n",
       "      <td>49</td>\n",
       "      <td>0</td>\n",
       "      <td>0</td>\n",
       "      <td>0</td>\n",
       "      <td>0</td>\n",
       "      <td>0</td>\n",
       "      <td>0</td>\n",
       "      <td>0</td>\n",
       "      <td>0</td>\n",
       "      <td>1</td>\n",
       "      <td>...</td>\n",
       "      <td>0</td>\n",
       "      <td>0</td>\n",
       "      <td>0</td>\n",
       "      <td>0</td>\n",
       "      <td>0</td>\n",
       "      <td>1</td>\n",
       "      <td>0</td>\n",
       "      <td>0</td>\n",
       "      <td>0</td>\n",
       "      <td>0</td>\n",
       "    </tr>\n",
       "    <tr>\n",
       "      <th>14370</th>\n",
       "      <td>22</td>\n",
       "      <td>0</td>\n",
       "      <td>0</td>\n",
       "      <td>0</td>\n",
       "      <td>0</td>\n",
       "      <td>0</td>\n",
       "      <td>0</td>\n",
       "      <td>0</td>\n",
       "      <td>0</td>\n",
       "      <td>0</td>\n",
       "      <td>...</td>\n",
       "      <td>0</td>\n",
       "      <td>0</td>\n",
       "      <td>0</td>\n",
       "      <td>0</td>\n",
       "      <td>0</td>\n",
       "      <td>0</td>\n",
       "      <td>0</td>\n",
       "      <td>0</td>\n",
       "      <td>0</td>\n",
       "      <td>0</td>\n",
       "    </tr>\n",
       "    <tr>\n",
       "      <th>2499</th>\n",
       "      <td>3</td>\n",
       "      <td>0</td>\n",
       "      <td>0</td>\n",
       "      <td>0</td>\n",
       "      <td>0</td>\n",
       "      <td>0</td>\n",
       "      <td>0</td>\n",
       "      <td>1</td>\n",
       "      <td>1</td>\n",
       "      <td>0</td>\n",
       "      <td>...</td>\n",
       "      <td>0</td>\n",
       "      <td>0</td>\n",
       "      <td>0</td>\n",
       "      <td>1</td>\n",
       "      <td>0</td>\n",
       "      <td>0</td>\n",
       "      <td>0</td>\n",
       "      <td>0</td>\n",
       "      <td>0</td>\n",
       "      <td>0</td>\n",
       "    </tr>\n",
       "    <tr>\n",
       "      <th>264</th>\n",
       "      <td>0</td>\n",
       "      <td>0</td>\n",
       "      <td>0</td>\n",
       "      <td>0</td>\n",
       "      <td>0</td>\n",
       "      <td>0</td>\n",
       "      <td>0</td>\n",
       "      <td>0</td>\n",
       "      <td>1</td>\n",
       "      <td>1</td>\n",
       "      <td>...</td>\n",
       "      <td>0</td>\n",
       "      <td>1</td>\n",
       "      <td>1</td>\n",
       "      <td>0</td>\n",
       "      <td>0</td>\n",
       "      <td>0</td>\n",
       "      <td>0</td>\n",
       "      <td>0</td>\n",
       "      <td>0</td>\n",
       "      <td>0</td>\n",
       "    </tr>\n",
       "    <tr>\n",
       "      <th>30921</th>\n",
       "      <td>48</td>\n",
       "      <td>0</td>\n",
       "      <td>0</td>\n",
       "      <td>0</td>\n",
       "      <td>0</td>\n",
       "      <td>1</td>\n",
       "      <td>1</td>\n",
       "      <td>0</td>\n",
       "      <td>0</td>\n",
       "      <td>0</td>\n",
       "      <td>...</td>\n",
       "      <td>0</td>\n",
       "      <td>0</td>\n",
       "      <td>0</td>\n",
       "      <td>0</td>\n",
       "      <td>1</td>\n",
       "      <td>1</td>\n",
       "      <td>0</td>\n",
       "      <td>0</td>\n",
       "      <td>0</td>\n",
       "      <td>0</td>\n",
       "    </tr>\n",
       "  </tbody>\n",
       "</table>\n",
       "<p>5 rows × 257 columns</p>\n",
       "</div>"
      ],
      "text/plain": [
       "       label  0  1  2  3  4  5  6  7  8  ...  246  247  248  249  250  251  \\\n",
       "31611     49  0  0  0  0  0  0  0  0  1  ...    0    0    0    0    0    1   \n",
       "14370     22  0  0  0  0  0  0  0  0  0  ...    0    0    0    0    0    0   \n",
       "2499       3  0  0  0  0  0  0  1  1  0  ...    0    0    0    1    0    0   \n",
       "264        0  0  0  0  0  0  0  0  1  1  ...    0    1    1    0    0    0   \n",
       "30921     48  0  0  0  0  1  1  0  0  0  ...    0    0    0    0    1    1   \n",
       "\n",
       "       252  253  254  255  \n",
       "31611    0    0    0    0  \n",
       "14370    0    0    0    0  \n",
       "2499     0    0    0    0  \n",
       "264      0    0    0    0  \n",
       "30921    0    0    0    0  \n",
       "\n",
       "[5 rows x 257 columns]"
      ]
     },
     "execution_count": 14,
     "metadata": {},
     "output_type": "execute_result"
    }
   ],
   "source": [
    "train.head()"
   ]
  },
  {
   "cell_type": "code",
   "execution_count": 15,
   "metadata": {},
   "outputs": [
    {
     "data": {
      "text/plain": [
       "label\n",
       "0     640\n",
       "1     640\n",
       "2     640\n",
       "3     640\n",
       "4     640\n",
       "     ... \n",
       "61    640\n",
       "62    640\n",
       "63    640\n",
       "64    640\n",
       "65    640\n",
       "Name: label, Length: 66, dtype: int64"
      ]
     },
     "execution_count": 15,
     "metadata": {},
     "output_type": "execute_result"
    }
   ],
   "source": [
    "train.groupby('label')['label'].count()"
   ]
  },
  {
   "cell_type": "code",
   "execution_count": 16,
   "metadata": {},
   "outputs": [],
   "source": [
    "y_train = train['label'].to_numpy()\n",
    "del train['label']\n",
    "X_train = train.to_numpy()\n",
    "\n",
    "y_val = val['label'].to_numpy()\n",
    "del val['label']\n",
    "X_val = val.to_numpy()\n",
    "\n",
    "y_test = test['label'].to_numpy()\n",
    "del test['label']\n",
    "X_test = test.to_numpy()"
   ]
  },
  {
   "cell_type": "code",
   "execution_count": 17,
   "metadata": {},
   "outputs": [
    {
     "name": "stdout",
     "output_type": "stream",
     "text": [
      "Training dataset contains:  (42240, 256)  data\n",
      "Testing dataset contains:  (12735, 256)  data\n",
      "Validation dataset contains:  (12735, 256)  data\n"
     ]
    }
   ],
   "source": [
    "print('Training dataset contains: ', X_train.shape, ' data')\n",
    "print('Testing dataset contains: ', X_test.shape, ' data')\n",
    "print('Validation dataset contains: ', X_val.shape, ' data')"
   ]
  },
  {
   "cell_type": "code",
   "execution_count": 70,
   "metadata": {},
   "outputs": [],
   "source": [
    "def svm_model(X_train, X_test, y_train, y_test):\n",
    "    from sklearn import svm\n",
    "    train_start = dt.now()\n",
    "    svm_classifier = svm.SVC(kernel='rbf',gamma=0.001,C=5, max_iter=2000)\n",
    "    svm_classifier.fit(X_train, y_train)\n",
    "    traing_time = (train_start.now() - train_start).seconds\n",
    "    \n",
    "    predict_start=dt.now()\n",
    "    y_pred = svm_classifier.predict(X_test)\n",
    "    predict_time = (predict_start.now() - predict_start).seconds\n",
    "    \n",
    "    accuracy = accuracy_score(y_test,y_pred)*100\n",
    "    \n",
    "    performance_result.append(['SVM',traing_time,predict_time,accuracy])\n",
    "    \n",
    "    #print(confusion_matrix(y_test, y_pred))\n",
    "    #print(classification_report(y_test, y_pred))\n",
    "\n",
    "def logistic_regression(X_train, X_test, y_train, y_test):\n",
    "    from sklearn.linear_model import LogisticRegression\n",
    "    train_start = dt.now()\n",
    "    clf = LogisticRegression(max_iter=2000)\n",
    "    clf.fit(X_train, y_train)\n",
    "    traing_time = (train_start.now() - train_start).seconds\n",
    "    \n",
    "    predict_start=dt.now()\n",
    "    y_pred = clf.predict(X_test)\n",
    "    predict_time = (predict_start.now() - predict_start).seconds\n",
    "    \n",
    "    accuracy = accuracy_score(y_test,y_pred)*100\n",
    "    \n",
    "    performance_result.append(['LR',traing_time,predict_time,accuracy])\n",
    "    \n",
    "    #print(confusion_matrix(y_test, y_pred))\n",
    "    #print(classification_report(y_test, y_pred))\n",
    "\n",
    "def linear_svm_model(X_train, X_test, y_train, y_test):\n",
    "    from sklearn import svm\n",
    "    train_start = dt.now()\n",
    "    svm_classifier = svm.LinearSVC(max_iter=2000)\n",
    "    svm_classifier.fit(X_train, y_train)\n",
    "    traing_time = (train_start.now() - train_start).seconds\n",
    "    \n",
    "    predict_start=dt.now()\n",
    "    y_pred = svm_classifier.predict(X_test)\n",
    "    predict_time = (predict_start.now() - predict_start).seconds\n",
    "    \n",
    "    accuracy = accuracy_score(y_test,y_pred)*100\n",
    "    \n",
    "    performance_result.append(['LinearSVM',traing_time,predict_time,accuracy])\n",
    "    \n",
    "    #print(confusion_matrix(y_test, y_pred))\n",
    "    #print(classification_report(y_test, y_pred))\n",
    "    \n",
    "def gaussian_naive_bayes(X_train, X_test, y_train, y_test):\n",
    "    from sklearn.naive_bayes import GaussianNB\n",
    "    \n",
    "    train_start = dt.now()\n",
    "    GNB_classifier = GaussianNB()\n",
    "    GNB_classifier.fit(X_train, y_train)\n",
    "    traing_time = (train_start.now() - train_start).seconds\n",
    "    \n",
    "    predict_start=dt.now()\n",
    "    y_pred = GNB_classifier.predict(X_test)\n",
    "    predict_time = (predict_start.now() - predict_start).seconds\n",
    "    accuracy = accuracy_score(y_test,y_pred)*100\n",
    "    \n",
    "    performance_result.append(['NB',traing_time,predict_time,accuracy])\n",
    "\n",
    "def decision_tree(X_train, X_test, y_train, y_test):\n",
    "    from sklearn import tree\n",
    "    \n",
    "    train_start = dt.now()\n",
    "    dt_classifier = tree.DecisionTreeClassifier()\n",
    "    dt_classifier.fit(X_train, y_train)\n",
    "    traing_time = (train_start.now() - train_start).seconds\n",
    "    \n",
    "    predict_start=dt.now()\n",
    "    y_pred = dt_classifier.predict(X_test)\n",
    "    predict_time = (predict_start.now() - predict_start).seconds\n",
    "    accuracy = accuracy_score(y_test,y_pred)*100\n",
    "    \n",
    "    performance_result.append(['DT',traing_time,predict_time,accuracy])\n",
    "\n",
    "def random_forest(X_train, X_test, y_train, y_test):\n",
    "    from sklearn.ensemble import RandomForestClassifier\n",
    "    \n",
    "    train_start = dt.now()\n",
    "    RF_classifier = RandomForestClassifier(max_depth=10, random_state=0)\n",
    "    RF_classifier.fit(X_train, y_train)\n",
    "    traing_time = (train_start.now() - train_start).seconds\n",
    "    \n",
    "    predict_start=dt.now()\n",
    "    y_pred = RF_classifier.predict(X_test)\n",
    "    predict_time = (predict_start.now() - predict_start).seconds\n",
    "    accuracy = accuracy_score(y_test,y_pred)*100\n",
    "    \n",
    "    performance_result.append(['RF',traing_time,predict_time,accuracy])\n",
    "\n",
    "def stochastic_gradient_decend(X_train, X_test, y_train, y_test):\n",
    "    from sklearn.linear_model import SGDClassifier\n",
    "    \n",
    "    train_start = dt.now()\n",
    "    sgd_classifier = SGDClassifier(loss=\"hinge\", penalty=\"l2\", max_iter=1000)\n",
    "    sgd_classifier.fit(X_train, y_train)\n",
    "    traing_time = (train_start.now() - train_start).seconds\n",
    "    \n",
    "    predict_start=dt.now()\n",
    "    y_pred = sgd_classifier.predict(X_test)\n",
    "    predict_time = (predict_start.now() - predict_start).seconds\n",
    "    accuracy = accuracy_score(y_test,y_pred)*100\n",
    "    \n",
    "    performance_result.append(['GD',traing_time,predict_time,accuracy])\n",
    "\n",
    "def k_nearest_neighbors(X_train, X_test, y_train, y_test):\n",
    "    from sklearn.neighbors import KNeighborsClassifier\n",
    "    \n",
    "    train_start = dt.now()\n",
    "    KNN_classifier = KNeighborsClassifier(n_neighbors=5, metric='euclidean')\n",
    "    KNN_classifier.fit(X_train, y_train)\n",
    "    traing_time = (train_start.now() - train_start).seconds\n",
    "    \n",
    "    predict_start=dt.now()\n",
    "    y_pred = KNN_classifier.predict(X_test)\n",
    "    predict_time = (predict_start.now() - predict_start).seconds\n",
    "    accuracy = accuracy_score(y_test,y_pred)*100\n",
    "    \n",
    "    plt.figure(figsize=(20,15), dpi=80)\n",
    "    \n",
    "    from sklearn.metrics import plot_confusion_matrix\n",
    "    plot_confusion_matrix(KNN_classifier, X_test, y_test, ax=plt.gca())\n",
    "    \n",
    "    # performance_result.append(['KNN',traing_time,predict_time,accuracy])"
   ]
  },
  {
   "cell_type": "code",
   "execution_count": 74,
   "metadata": {},
   "outputs": [
    {
     "name": "stdout",
     "output_type": "stream",
     "text": [
      "svm_model\n",
      "linear_svm_model\n"
     ]
    },
    {
     "name": "stderr",
     "output_type": "stream",
     "text": [
      "/home/zyan/miniconda3/lib/python3.8/site-packages/sklearn/svm/_base.py:1206: ConvergenceWarning: Liblinear failed to converge, increase the number of iterations.\n",
      "  warnings.warn(\n"
     ]
    },
    {
     "name": "stdout",
     "output_type": "stream",
     "text": [
      "logistic_regression\n",
      "gaussian_naive_bayes\n",
      "decision_tree\n",
      "random_forest\n",
      "stochastic_gradient_decend\n"
     ]
    }
   ],
   "source": [
    "import sklearn.metrics as metrics\n",
    "\n",
    "evaluation_col = [\"Model\",\"training duration\", \"predicting duration\", \"accuracy score\"]\n",
    "performance_result=[]\n",
    "\n",
    "from joblib import parallel_backend\n",
    "\n",
    "with parallel_backend('threading', n_jobs=12):\n",
    "    print('svm_model')\n",
    "    svm_model(X_train, X_test, y_train, y_test)\n",
    "    \n",
    "    print('linear_svm_model')\n",
    "    linear_svm_model(X_train, X_test, y_train, y_test)\n",
    "    \n",
    "    print('logistic_regression')\n",
    "    logistic_regression(X_train, X_test, y_train, y_test)\n",
    "\n",
    "    print('gaussian_naive_bayes')\n",
    "    gaussian_naive_bayes(X_train, X_test, y_train, y_test)\n",
    "\n",
    "    print('decision_tree')\n",
    "    decision_tree(X_train, X_test, y_train, y_test)\n",
    "\n",
    "    print('random_forest')\n",
    "    random_forest(X_train, X_test, y_train, y_test)\n",
    "\n",
    "    print('stochastic_gradient_decend')\n",
    "    stochastic_gradient_decend(X_train, X_test, y_train, y_test)"
   ]
  },
  {
   "cell_type": "code",
   "execution_count": 75,
   "metadata": {},
   "outputs": [
    {
     "name": "stderr",
     "output_type": "stream",
     "text": [
      "/home/zyan/miniconda3/lib/python3.8/site-packages/sklearn/utils/deprecation.py:87: FutureWarning: Function plot_confusion_matrix is deprecated; Function `plot_confusion_matrix` is deprecated in 1.0 and will be removed in 1.2. Use one of the class methods: ConfusionMatrixDisplay.from_predictions or ConfusionMatrixDisplay.from_estimator.\n",
      "  warnings.warn(msg, category=FutureWarning)\n"
     ]
    },
    {
     "data": {
      "image/png": "[encoded data removed]",
      "text/plain": [
       "<Figure size 1600x1200 with 2 Axes>"
      ]
     },
     "metadata": {
      "needs_background": "light"
     },
     "output_type": "display_data"
    }
   ],
   "source": [
    "from joblib import parallel_backend\n",
    "\n",
    "with parallel_backend('threading', n_jobs=12):\n",
    "    k_nearest_neighbors(X_train, X_test, y_train, y_test)\n",
    "    plt.savefig('cm.png', bbox_inches='tight')"
   ]
  },
  {
   "cell_type": "code",
   "execution_count": 76,
   "metadata": {},
   "outputs": [
    {
     "data": {
      "text/html": [
       "<div>\n",
       "<style scoped>\n",
       "    .dataframe tbody tr th:only-of-type {\n",
       "        vertical-align: middle;\n",
       "    }\n",
       "\n",
       "    .dataframe tbody tr th {\n",
       "        vertical-align: top;\n",
       "    }\n",
       "\n",
       "    .dataframe thead th {\n",
       "        text-align: right;\n",
       "    }\n",
       "</style>\n",
       "<table border=\"1\" class=\"dataframe\">\n",
       "  <thead>\n",
       "    <tr style=\"text-align: right;\">\n",
       "      <th></th>\n",
       "      <th>Model</th>\n",
       "      <th>training duration</th>\n",
       "      <th>predicting duration</th>\n",
       "      <th>accuracy score</th>\n",
       "    </tr>\n",
       "  </thead>\n",
       "  <tbody>\n",
       "    <tr>\n",
       "      <th>0</th>\n",
       "      <td>SVM</td>\n",
       "      <td>40</td>\n",
       "      <td>117</td>\n",
       "      <td>78.233216</td>\n",
       "    </tr>\n",
       "    <tr>\n",
       "      <th>1</th>\n",
       "      <td>LinearSVM</td>\n",
       "      <td>40</td>\n",
       "      <td>0</td>\n",
       "      <td>69.572046</td>\n",
       "    </tr>\n",
       "    <tr>\n",
       "      <th>2</th>\n",
       "      <td>LR</td>\n",
       "      <td>63</td>\n",
       "      <td>0</td>\n",
       "      <td>73.451119</td>\n",
       "    </tr>\n",
       "    <tr>\n",
       "      <th>3</th>\n",
       "      <td>NB</td>\n",
       "      <td>0</td>\n",
       "      <td>0</td>\n",
       "      <td>29.587750</td>\n",
       "    </tr>\n",
       "    <tr>\n",
       "      <th>4</th>\n",
       "      <td>DT</td>\n",
       "      <td>1</td>\n",
       "      <td>0</td>\n",
       "      <td>69.226541</td>\n",
       "    </tr>\n",
       "    <tr>\n",
       "      <th>5</th>\n",
       "      <td>RF</td>\n",
       "      <td>0</td>\n",
       "      <td>0</td>\n",
       "      <td>68.990970</td>\n",
       "    </tr>\n",
       "    <tr>\n",
       "      <th>6</th>\n",
       "      <td>GD</td>\n",
       "      <td>4</td>\n",
       "      <td>0</td>\n",
       "      <td>67.962309</td>\n",
       "    </tr>\n",
       "  </tbody>\n",
       "</table>\n",
       "</div>"
      ],
      "text/plain": [
       "       Model  training duration  predicting duration  accuracy score\n",
       "0        SVM                 40                  117       78.233216\n",
       "1  LinearSVM                 40                    0       69.572046\n",
       "2         LR                 63                    0       73.451119\n",
       "3         NB                  0                    0       29.587750\n",
       "4         DT                  1                    0       69.226541\n",
       "5         RF                  0                    0       68.990970\n",
       "6         GD                  4                    0       67.962309"
      ]
     },
     "execution_count": 76,
     "metadata": {},
     "output_type": "execute_result"
    }
   ],
   "source": [
    "eva_df = pd.DataFrame(performance_result, columns=evaluation_col)\n",
    "eva_df"
   ]
  },
  {
   "cell_type": "markdown",
   "metadata": {
    "tags": []
   },
   "source": [
    "KNN + SVM"
   ]
  },
  {
   "cell_type": "code",
   "execution_count": 19,
   "metadata": {},
   "outputs": [],
   "source": [
    "import numpy as np\n",
    "import faiss\n",
    "\n",
    "\n",
    "class FaissKNeighbors:\n",
    "    def __init__(self, k=5):\n",
    "        self.index = None\n",
    "        self.y = None\n",
    "        self.k = k\n",
    "\n",
    "    def fit(self, X, y):\n",
    "        self.index = faiss.IndexFlatL2(X.shape[1])\n",
    "        self.index.add(X.copy(order='C').astype(np.float32))\n",
    "        self.y = y\n",
    "\n",
    "    def predict(self, X, k=None):\n",
    "        X = X.copy(order='C')\n",
    "        k = k or self.k\n",
    "        distances, indices = self.index.search(X.astype(np.float32), k=k)\n",
    "        votes = self.y[indices]\n",
    "        predictions = np.array([np.argmax(np.bincount(x)) for x in votes])\n",
    "        return predictions\n",
    "    \n",
    "    def kneighbors(self, X, n_neighbors):\n",
    "        X = X.copy(order='C')\n",
    "        return self.index.search(X.astype(np.float32), k=n_neighbors)"
   ]
  },
  {
   "cell_type": "code",
   "execution_count": 66,
   "metadata": {},
   "outputs": [
    {
     "name": "stdout",
     "output_type": "stream",
     "text": [
      "k: 1, 80.85590891244601\n"
     ]
    },
    {
     "name": "stderr",
     "output_type": "stream",
     "text": [
      "/home/zyan/miniconda3/lib/python3.8/site-packages/sklearn/utils/deprecation.py:87: FutureWarning: Function plot_confusion_matrix is deprecated; Function `plot_confusion_matrix` is deprecated in 1.0 and will be removed in 1.2. Use one of the class methods: ConfusionMatrixDisplay.from_predictions or ConfusionMatrixDisplay.from_estimator.\n",
      "  warnings.warn(msg, category=FutureWarning)\n"
     ]
    },
    {
     "ename": "ValueError",
     "evalue": "plot_confusion_matrix only supports classifiers",
     "output_type": "error",
     "traceback": [
      "\u001b[0;31m---------------------------------------------------------------------------\u001b[0m",
      "\u001b[0;31mValueError\u001b[0m                                Traceback (most recent call last)",
      "Input \u001b[0;32mIn [66]\u001b[0m, in \u001b[0;36m<cell line: 6>\u001b[0;34m()\u001b[0m\n\u001b[1;32m     10\u001b[0m \u001b[38;5;28;01mif\u001b[39;00m k \u001b[38;5;241m==\u001b[39m \u001b[38;5;241m1\u001b[39m:\n\u001b[1;32m     11\u001b[0m     \u001b[38;5;28;01mfrom\u001b[39;00m \u001b[38;5;21;01msklearn\u001b[39;00m\u001b[38;5;21;01m.\u001b[39;00m\u001b[38;5;21;01mmetrics\u001b[39;00m \u001b[38;5;28;01mimport\u001b[39;00m plot_confusion_matrix\n\u001b[0;32m---> 12\u001b[0m     \u001b[43mplot_confusion_matrix\u001b[49m\u001b[43m(\u001b[49m\u001b[43mknn\u001b[49m\u001b[43m,\u001b[49m\u001b[43m \u001b[49m\u001b[43mX_test\u001b[49m\u001b[43m,\u001b[49m\u001b[43m \u001b[49m\u001b[43my_test\u001b[49m\u001b[43m)\u001b[49m\n",
      "File \u001b[0;32m~/miniconda3/lib/python3.8/site-packages/sklearn/utils/deprecation.py:88\u001b[0m, in \u001b[0;36mdeprecated._decorate_fun.<locals>.wrapped\u001b[0;34m(*args, **kwargs)\u001b[0m\n\u001b[1;32m     85\u001b[0m \u001b[38;5;129m@functools\u001b[39m\u001b[38;5;241m.\u001b[39mwraps(fun)\n\u001b[1;32m     86\u001b[0m \u001b[38;5;28;01mdef\u001b[39;00m \u001b[38;5;21mwrapped\u001b[39m(\u001b[38;5;241m*\u001b[39margs, \u001b[38;5;241m*\u001b[39m\u001b[38;5;241m*\u001b[39mkwargs):\n\u001b[1;32m     87\u001b[0m     warnings\u001b[38;5;241m.\u001b[39mwarn(msg, category\u001b[38;5;241m=\u001b[39m\u001b[38;5;167;01mFutureWarning\u001b[39;00m)\n\u001b[0;32m---> 88\u001b[0m     \u001b[38;5;28;01mreturn\u001b[39;00m \u001b[43mfun\u001b[49m\u001b[43m(\u001b[49m\u001b[38;5;241;43m*\u001b[39;49m\u001b[43margs\u001b[49m\u001b[43m,\u001b[49m\u001b[43m \u001b[49m\u001b[38;5;241;43m*\u001b[39;49m\u001b[38;5;241;43m*\u001b[39;49m\u001b[43mkwargs\u001b[49m\u001b[43m)\u001b[49m\n",
      "File \u001b[0;32m~/miniconda3/lib/python3.8/site-packages/sklearn/metrics/_plot/confusion_matrix.py:563\u001b[0m, in \u001b[0;36mplot_confusion_matrix\u001b[0;34m(estimator, X, y_true, labels, sample_weight, normalize, display_labels, include_values, xticks_rotation, values_format, cmap, ax, colorbar)\u001b[0m\n\u001b[1;32m    560\u001b[0m check_matplotlib_support(\u001b[38;5;124m\"\u001b[39m\u001b[38;5;124mplot_confusion_matrix\u001b[39m\u001b[38;5;124m\"\u001b[39m)\n\u001b[1;32m    562\u001b[0m \u001b[38;5;28;01mif\u001b[39;00m \u001b[38;5;129;01mnot\u001b[39;00m is_classifier(estimator):\n\u001b[0;32m--> 563\u001b[0m     \u001b[38;5;28;01mraise\u001b[39;00m \u001b[38;5;167;01mValueError\u001b[39;00m(\u001b[38;5;124m\"\u001b[39m\u001b[38;5;124mplot_confusion_matrix only supports classifiers\u001b[39m\u001b[38;5;124m\"\u001b[39m)\n\u001b[1;32m    565\u001b[0m y_pred \u001b[38;5;241m=\u001b[39m estimator\u001b[38;5;241m.\u001b[39mpredict(X)\n\u001b[1;32m    566\u001b[0m cm \u001b[38;5;241m=\u001b[39m confusion_matrix(\n\u001b[1;32m    567\u001b[0m     y_true, y_pred, sample_weight\u001b[38;5;241m=\u001b[39msample_weight, labels\u001b[38;5;241m=\u001b[39mlabels, normalize\u001b[38;5;241m=\u001b[39mnormalize\n\u001b[1;32m    568\u001b[0m )\n",
      "\u001b[0;31mValueError\u001b[0m: plot_confusion_matrix only supports classifiers"
     ]
    }
   ],
   "source": [
    "from sklearn.neighbors import KNeighborsClassifier\n",
    "from sklearn.metrics import confusion_matrix\n",
    "\n",
    "knn = FaissKNeighbors(k=5)\n",
    "knn.fit(X_train, y_train)\n",
    "for k in range(1, 20):\n",
    "    y_pred = knn.predict(X_test, k)\n",
    "    print(f'k: {k}, {accuracy_score(y_test,y_pred)*100}')"
   ]
  },
  {
   "cell_type": "code",
   "execution_count": 22,
   "metadata": {},
   "outputs": [
    {
     "name": "stdout",
     "output_type": "stream",
     "text": [
      "n_neighbors: 2, transforming X_train\n",
      "n_neighbors: 2, transforming X_test\n",
      "max_iter: 2000, training SVM\n",
      "traing_time: 3\n",
      "accuracy: 0.8043188064389478, time: 3\n",
      "n_neighbors: 3, transforming X_train\n",
      "n_neighbors: 3, transforming X_test\n",
      "max_iter: 2000, training SVM\n",
      "traing_time: 4\n",
      "accuracy: 0.787122104436592, time: 5\n",
      "n_neighbors: 4, transforming X_train\n",
      "n_neighbors: 4, transforming X_test\n",
      "max_iter: 2000, training SVM\n",
      "traing_time: 4\n",
      "accuracy: 0.7725952100510405, time: 6\n",
      "n_neighbors: 5, transforming X_train\n",
      "n_neighbors: 5, transforming X_test\n",
      "max_iter: 2000, training SVM\n",
      "traing_time: 5\n",
      "accuracy: 0.7724381625441696, time: 8\n",
      "n_neighbors: 6, transforming X_train\n",
      "n_neighbors: 6, transforming X_test\n",
      "max_iter: 2000, training SVM\n",
      "traing_time: 6\n",
      "accuracy: 0.7670200235571261, time: 10\n",
      "n_neighbors: 7, transforming X_train\n",
      "n_neighbors: 7, transforming X_test\n",
      "max_iter: 2000, training SVM\n",
      "traing_time: 6\n",
      "accuracy: 0.7630938358853553, time: 11\n",
      "n_neighbors: 8, transforming X_train\n",
      "n_neighbors: 8, transforming X_test\n",
      "max_iter: 2000, training SVM\n",
      "traing_time: 6\n",
      "accuracy: 0.7626226933647429, time: 12\n"
     ]
    }
   ],
   "source": [
    "# num of classes based\n",
    "\n",
    "from sklearn.svm import LinearSVC, SVC\n",
    "from sklearn.pipeline import make_pipeline\n",
    "from sklearn.preprocessing import StandardScaler\n",
    "\n",
    "n_classes = len(set(df1.label))\n",
    "\n",
    "def transform_X(X, y, n_neighbors):\n",
    "    # neigh_dist, neigh_ind\n",
    "    distances, indices = knn.kneighbors(X, n_neighbors=n_neighbors)\n",
    "    votes = y[indices]\n",
    "    X_transform = [np.bincount(x, minlength=n_classes) for x in votes]\n",
    "    return np.vstack(X_transform)\n",
    "\n",
    "for n_neighbors in range(2, 9):\n",
    "    print(f'n_neighbors: {n_neighbors}, transforming X_train')\n",
    "    X_train_svm = transform_X(X_train, y_train, n_neighbors)\n",
    "    \n",
    "    print(f'n_neighbors: {n_neighbors}, transforming X_test')\n",
    "    X_test_svm = transform_X(X_test, y_train, n_neighbors)\n",
    "\n",
    "    for max_iter in [2000]:\n",
    "        print(f'max_iter: {max_iter}, training SVM')\n",
    "        train_start = dt.now()\n",
    "        svm = make_pipeline(StandardScaler(), SVC(max_iter=max_iter, tol=1e-5))\n",
    "        svm.fit(X_train_svm, y_train)\n",
    "        traing_time = (train_start.now() - train_start).seconds\n",
    "        print(f'traing_time: {traing_time}')\n",
    "\n",
    "        score_start = dt.now()\n",
    "        accuracy = svm.score(X_test_svm, y_test)\n",
    "        score_time = (score_start.now() - score_start).seconds\n",
    "        print(f'accuracy: {accuracy}, time: {score_time}')"
   ]
  },
  {
   "cell_type": "code",
   "execution_count": 103,
   "metadata": {},
   "outputs": [],
   "source": [
    "n_classes = len(set(df1.label))\n",
    "\n",
    "svms = []\n",
    "classes = []\n",
    "for i in range(n_classes):\n",
    "    svms.append([None for _ in range(n_classes)])\n",
    "    classes.append([None for _ in range(n_classes)])\n",
    "\n",
    "import os\n",
    "\n",
    "# path = f'Saved Models/classes.pickle'\n",
    "# if os.path.exists(path):\n",
    "#     with open(path, 'rb') as f:\n",
    "#         classes = pickle.load(f)"
   ]
  },
  {
   "cell_type": "code",
   "execution_count": 122,
   "metadata": {},
   "outputs": [
    {
     "name": "stdout",
     "output_type": "stream",
     "text": [
      "n_neighbors: 1\n"
     ]
    },
    {
     "name": "stderr",
     "output_type": "stream",
     "text": [
      "100%|█████████████████████████████████████████████████████████████████████████████████████████████| 12735/12735 [00:00<00:00, 193481.59it/s]\n"
     ]
    },
    {
     "name": "stdout",
     "output_type": "stream",
     "text": [
      "accuracy: 80.85590891244601\n",
      "n_neighbors: 2\n"
     ]
    },
    {
     "name": "stderr",
     "output_type": "stream",
     "text": [
      "100%|██████████████████████████████████████████████████████████████████████████████████████████████| 12735/12735 [00:00<00:00, 25751.60it/s]\n"
     ]
    },
    {
     "name": "stdout",
     "output_type": "stream",
     "text": [
      "accuracy: 82.02591283863369\n",
      "n_neighbors: 3\n"
     ]
    },
    {
     "name": "stderr",
     "output_type": "stream",
     "text": [
      "100%|██████████████████████████████████████████████████████████████████████████████████████████████| 12735/12735 [00:00<00:00, 14456.54it/s]\n"
     ]
    },
    {
     "name": "stdout",
     "output_type": "stream",
     "text": [
      "accuracy: 83.19591676482135\n",
      "n_neighbors: 4\n"
     ]
    },
    {
     "name": "stderr",
     "output_type": "stream",
     "text": [
      "100%|██████████████████████████████████████████████████████████████████████████████████████████████| 12735/12735 [00:01<00:00, 10438.00it/s]\n"
     ]
    },
    {
     "name": "stdout",
     "output_type": "stream",
     "text": [
      "accuracy: 84.06753042795445\n",
      "n_neighbors: 5\n"
     ]
    },
    {
     "name": "stderr",
     "output_type": "stream",
     "text": [
      "100%|███████████████████████████████████████████████████████████████████████████████████████████████| 12735/12735 [00:01<00:00, 8302.48it/s]\n"
     ]
    },
    {
     "name": "stdout",
     "output_type": "stream",
     "text": [
      "accuracy: 84.4365920691009\n",
      "n_neighbors: 6\n"
     ]
    },
    {
     "name": "stderr",
     "output_type": "stream",
     "text": [
      "100%|███████████████████████████████████████████████████████████████████████████████████████████████| 12735/12735 [00:01<00:00, 7077.25it/s]\n"
     ]
    },
    {
     "name": "stdout",
     "output_type": "stream",
     "text": [
      "accuracy: 84.68001570475069\n",
      "n_neighbors: 7\n"
     ]
    },
    {
     "name": "stderr",
     "output_type": "stream",
     "text": [
      "100%|███████████████████████████████████████████████████████████████████████████████████████████████| 12735/12735 [00:02<00:00, 6299.02it/s]\n"
     ]
    },
    {
     "name": "stdout",
     "output_type": "stream",
     "text": [
      "accuracy: 84.93914409108756\n",
      "n_neighbors: 8\n"
     ]
    },
    {
     "name": "stderr",
     "output_type": "stream",
     "text": [
      "100%|███████████████████████████████████████████████████████████████████████████████████████████████| 12735/12735 [00:02<00:00, 5780.68it/s]\n"
     ]
    },
    {
     "name": "stdout",
     "output_type": "stream",
     "text": [
      "accuracy: 85.01766784452298\n",
      "n_neighbors: 9\n"
     ]
    },
    {
     "name": "stderr",
     "output_type": "stream",
     "text": [
      "100%|███████████████████████████████████████████████████████████████████████████████████████████████| 12735/12735 [00:02<00:00, 5291.41it/s]\n"
     ]
    },
    {
     "name": "stdout",
     "output_type": "stream",
     "text": [
      "accuracy: 84.93914409108756\n",
      "n_neighbors: 10\n"
     ]
    },
    {
     "name": "stderr",
     "output_type": "stream",
     "text": [
      "100%|███████████████████████████████████████████████████████████████████████████████████████████████| 12735/12735 [00:02<00:00, 5007.08it/s]\n"
     ]
    },
    {
     "name": "stdout",
     "output_type": "stream",
     "text": [
      "accuracy: 84.63290145268944\n",
      "n_neighbors: 11\n"
     ]
    },
    {
     "name": "stderr",
     "output_type": "stream",
     "text": [
      "100%|███████████████████████████████████████████████████████████████████████████████████████████████| 12735/12735 [00:02<00:00, 4773.83it/s]\n"
     ]
    },
    {
     "name": "stdout",
     "output_type": "stream",
     "text": [
      "accuracy: 84.40518256772674\n",
      "n_neighbors: 12\n"
     ]
    },
    {
     "name": "stderr",
     "output_type": "stream",
     "text": [
      "100%|███████████████████████████████████████████████████████████████████████████████████████████████| 12735/12735 [00:02<00:00, 4538.65it/s]\n"
     ]
    },
    {
     "name": "stdout",
     "output_type": "stream",
     "text": [
      "accuracy: 84.2088731841382\n",
      "n_neighbors: 13\n"
     ]
    },
    {
     "name": "stderr",
     "output_type": "stream",
     "text": [
      "100%|███████████████████████████████████████████████████████████████████████████████████████████████| 12735/12735 [00:02<00:00, 4353.81it/s]\n"
     ]
    },
    {
     "name": "stdout",
     "output_type": "stream",
     "text": [
      "accuracy: 84.09893992932862\n",
      "n_neighbors: 14\n"
     ]
    },
    {
     "name": "stderr",
     "output_type": "stream",
     "text": [
      "100%|███████████████████████████████████████████████████████████████████████████████████████████████| 12735/12735 [00:03<00:00, 4200.73it/s]"
     ]
    },
    {
     "name": "stdout",
     "output_type": "stream",
     "text": [
      "accuracy: 83.98900667451905\n"
     ]
    },
    {
     "name": "stderr",
     "output_type": "stream",
     "text": [
      "\n"
     ]
    }
   ],
   "source": [
    "# num of classes based\n",
    "\n",
    "from sklearn.svm import LinearSVC, SVC\n",
    "from sklearn.pipeline import make_pipeline\n",
    "from sklearn.preprocessing import StandardScaler\n",
    "from tqdm import tqdm\n",
    "import os\n",
    "import pickle\n",
    "\n",
    "\n",
    "def get_svm(i, j):\n",
    "    assert i != j\n",
    "    if i > j:\n",
    "        i, j = j, i\n",
    "    if svms[i][j] is not None:\n",
    "        return svms[i][j]\n",
    "#     if os.path.exists(f'Saved Models/svm_{i}_{j}.pickle'):\n",
    "#         with open(f'Saved Models/svm_{i}_{j}.pickle', 'rb') as f:\n",
    "#             svms[i][j] = pickle.load(f)\n",
    "#             return svms[i][j]\n",
    "    print(f'training {i}, {j}')\n",
    "    train_start = dt.now()\n",
    "    svm = make_pipeline(StandardScaler(), SVC(max_iter=2000, tol=1e-5))\n",
    "    # idx = (y_train == i).any() & (y_train == j).any()\n",
    "    idx = np.logical_or(y_train == i, y_train == j)\n",
    "    # print(idx, np.count_nonzero(idx))\n",
    "    X_curt = X_train[idx].squeeze()\n",
    "    y_curt = y_train[idx].squeeze()\n",
    "    from sklearn.preprocessing import LabelEncoder\n",
    "    le = LabelEncoder()\n",
    "    y_curt = le.fit_transform(y_curt.reshape(-1))\n",
    "    classes[i][j] = le.classes_\n",
    "    classes[j][i] = le.classes_\n",
    "    # print(le.classes_)\n",
    "    svm.fit(X_curt, y_curt)\n",
    "    traing_time = (train_start.now() - train_start).seconds\n",
    "    print(f'traing_time: {traing_time}')\n",
    "    svms[i][j] = svm\n",
    "    return svm\n",
    "\n",
    "\n",
    "for n_neighbors in range(1, 15):\n",
    "    print(f'n_neighbors: {n_neighbors}')\n",
    "    distances, indices = knn.kneighbors(X_test, n_neighbors=n_neighbors)\n",
    "    \n",
    "    y_pred = []\n",
    "    for i, index in enumerate(tqdm(indices)):\n",
    "        from collections import Counter\n",
    "        c = Counter(map(lambda x: y_train[x], index))\n",
    "        mc = c.most_common(3)\n",
    "        if len(mc) == 1:\n",
    "            y_pred.append(mc[0][0])\n",
    "        elif len(mc) == 2:\n",
    "            c0, c1 = mc[0][0], mc[1][0]\n",
    "            svm = get_svm(c0, c1)\n",
    "            p = svm.predict(X_test[i].reshape(1, -1))\n",
    "            y_pred.append(classes[c0][c1][p].item())\n",
    "        else:\n",
    "            c0, c1, c2 = mc[0][0], mc[1][0], mc[2][0]\n",
    "            svm = get_svm(c1, c2)\n",
    "            p = svm.predict(X_test[i].reshape(1, -1))\n",
    "            c12 = classes[c1][c2][p].item()\n",
    "            svm = get_svm(c0, c12)\n",
    "            p = svm.predict(X_test[i].reshape(1, -1))\n",
    "            y_pred.append(classes[c0][c12][p].item())\n",
    "    accuracy = accuracy_score(y_test, y_pred)*100\n",
    "    print(f'accuracy: {accuracy}')"
   ]
  },
  {
   "cell_type": "code",
   "execution_count": 123,
   "metadata": {},
   "outputs": [],
   "source": [
    "# save SVMs\n",
    "\n",
    "import pickle \n",
    "\n",
    "for i in range(n_classes):\n",
    "    for j in range(n_classes):\n",
    "        svm = svms[i][j]\n",
    "        if svm is None:\n",
    "            continue\n",
    "        with open(f'Saved Models/svm_{i}_{j}.pickle', 'wb') as f:\n",
    "            pickle.dump(svm, f)\n",
    "\n",
    "with open(f'Saved Models/svm_classes.pickle', 'wb') as f:\n",
    "    pickle.dump(classes, f)"
   ]
  },
  {
   "cell_type": "code",
   "execution_count": 58,
   "metadata": {},
   "outputs": [],
   "source": [
    "# save KNN\n",
    "faiss.write_index(knn.index, 'Saved Models/knn.idx')"
   ]
  },
  {
   "cell_type": "code",
   "execution_count": null,
   "metadata": {},
   "outputs": [
    {
     "name": "stdout",
     "output_type": "stream",
     "text": [
      "n_neighbors: 5, transforming X_train\n",
      "n_neighbors: 5, transforming X_test\n",
      "max_iter: 500, kernel: SVC, training SVM\n"
     ]
    },
    {
     "name": "stderr",
     "output_type": "stream",
     "text": [
      "/home/zyan/miniconda3/lib/python3.8/site-packages/sklearn/svm/_base.py:284: ConvergenceWarning: Solver terminated early (max_iter=500).  Consider pre-processing your data with StandardScaler or MinMaxScaler.\n",
      "  warnings.warn(\n"
     ]
    },
    {
     "name": "stdout",
     "output_type": "stream",
     "text": [
      "traing_time: 229\n",
      "accuracy: 0.0365321375186846, time: 182\n",
      "max_iter: 500, kernel: LinearSVC, training SVM\n"
     ]
    },
    {
     "name": "stderr",
     "output_type": "stream",
     "text": [
      "/home/zyan/miniconda3/lib/python3.8/site-packages/sklearn/svm/_base.py:1206: ConvergenceWarning: Liblinear failed to converge, increase the number of iterations.\n",
      "  warnings.warn(\n"
     ]
    },
    {
     "name": "stdout",
     "output_type": "stream",
     "text": [
      "traing_time: 916\n",
      "accuracy: 0.16849028400597907, time: 0\n",
      "max_iter: 1000, kernel: SVC, training SVM\n"
     ]
    },
    {
     "name": "stderr",
     "output_type": "stream",
     "text": [
      "/home/zyan/miniconda3/lib/python3.8/site-packages/sklearn/svm/_base.py:284: ConvergenceWarning: Solver terminated early (max_iter=1000).  Consider pre-processing your data with StandardScaler or MinMaxScaler.\n",
      "  warnings.warn(\n"
     ]
    },
    {
     "name": "stdout",
     "output_type": "stream",
     "text": [
      "traing_time: 442\n",
      "accuracy: 0.03730941704035874, time: 302\n",
      "max_iter: 1000, kernel: LinearSVC, training SVM\n"
     ]
    },
    {
     "name": "stderr",
     "output_type": "stream",
     "text": [
      "/home/zyan/miniconda3/lib/python3.8/site-packages/sklearn/svm/_base.py:1206: ConvergenceWarning: Liblinear failed to converge, increase the number of iterations.\n",
      "  warnings.warn(\n"
     ]
    },
    {
     "name": "stdout",
     "output_type": "stream",
     "text": [
      "traing_time: 1833\n",
      "accuracy: 0.18155455904334827, time: 0\n",
      "max_iter: 2000, kernel: SVC, training SVM\n"
     ]
    },
    {
     "name": "stderr",
     "output_type": "stream",
     "text": [
      "/home/zyan/miniconda3/lib/python3.8/site-packages/sklearn/svm/_base.py:284: ConvergenceWarning: Solver terminated early (max_iter=2000).  Consider pre-processing your data with StandardScaler or MinMaxScaler.\n",
      "  warnings.warn(\n"
     ]
    },
    {
     "name": "stdout",
     "output_type": "stream",
     "text": [
      "traing_time: 862\n"
     ]
    }
   ],
   "source": [
    "# average distance based\n",
    "\n",
    "from sklearn.svm import LinearSVC\n",
    "from sklearn.pipeline import make_pipeline\n",
    "from sklearn.preprocessing import StandardScaler\n",
    "\n",
    "n_classes = len(set(df1.label))\n",
    "\n",
    "def transform_X(X, y, n_neighbors):\n",
    "    # neigh_dist, neigh_ind\n",
    "    distances, indices = knn.kneighbors(X, n_neighbors=n_neighbors)\n",
    "    votes = y[indices]\n",
    "    X_transform = []\n",
    "    for distance, vote in zip(distances, votes):\n",
    "        d = [0 for _ in range(n_classes)]\n",
    "        c = [0 for _ in range(n_classes)]\n",
    "        for dd, v in zip(distance, vote):\n",
    "            c[v] += 1\n",
    "            d[v] += dd\n",
    "#         for i in range(len(d)):\n",
    "#             if c[i] == 0:\n",
    "#                 continue\n",
    "#             d[i] /= c[i]\n",
    "        X_transform.append(np.array(d))\n",
    "    return np.vstack(X_transform)\n",
    "\n",
    "for n_neighbors in [5, 10, 15, 20]:\n",
    "    print(f'n_neighbors: {n_neighbors}, transforming X_train')\n",
    "    X_train_svm = transform_X(X_train, y_train, n_neighbors)\n",
    "    \n",
    "    print(f'n_neighbors: {n_neighbors}, transforming X_test')\n",
    "    X_test_svm = transform_X(X_test, y_train, n_neighbors)\n",
    "\n",
    "    for max_iter in [500, 1000, 2000]:\n",
    "        for kernel in [\"SVC\", \"LinearSVC\"]:\n",
    "            print(f'max_iter: {max_iter}, kernel: {kernel}, training SVM')\n",
    "            train_start = dt.now()\n",
    "            if kernel == \"LinearSVC\":\n",
    "                svm = make_pipeline(StandardScaler(), LinearSVC(max_iter=max_iter, tol=1e-5))\n",
    "            else:\n",
    "                svm = make_pipeline(StandardScaler(), SVC(max_iter=max_iter, tol=1e-5))\n",
    "            svm.fit(X_train_svm, y_train)\n",
    "            traing_time = (train_start.now() - train_start).seconds\n",
    "            print(f'traing_time: {traing_time}')\n",
    "\n",
    "            score_start = dt.now()\n",
    "            accuracy = svm.score(X_test_svm, y_test)\n",
    "            score_time = (score_start.now() - score_start).seconds\n",
    "            print(f'accuracy: {accuracy}, time: {score_time}')"
   ]
  }
 ],
 "metadata": {
  "kernelspec": {
   "display_name": "Python 3 (ipykernel)",
   "language": "python",
   "name": "python3"
  },
  "language_info": {
   "codemirror_mode": {
    "name": "ipython",
    "version": 3
   },
   "file_extension": ".py",
   "mimetype": "text/x-python",
   "name": "python",
   "nbconvert_exporter": "python",
   "pygments_lexer": "ipython3",
   "version": "3.8.13"
  }
 },
 "nbformat": 4,
 "nbformat_minor": 4
}
